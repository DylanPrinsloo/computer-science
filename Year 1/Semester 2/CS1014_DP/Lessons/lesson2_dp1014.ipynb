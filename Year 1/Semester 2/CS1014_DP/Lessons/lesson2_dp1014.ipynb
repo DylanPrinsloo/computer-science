{
 "cells": [
  {
   "cell_type": "markdown",
   "metadata": {},
   "source": [
    "# Introduction to dynamic programming"
   ]
  },
  {
   "cell_type": "markdown",
   "metadata": {},
   "source": [
    "### **What is Parallelization?**  \n",
    "Parallelization is when we solve multiple parts of a problem **at the same time** instead of one by one. Imagine you have a big task and you divide it among your friends so that it gets done faster—that’s parallelization!  \n",
    "\n",
    "Now, we have two important problem-solving techniques:  \n",
    "1. **Divide and Conquer**  \n",
    "2. **Dynamic Programming**  \n",
    "\n",
    "### Let's see how they differ when it comes to parallelization."
   ]
  },
  {
   "cell_type": "code",
   "execution_count": null,
   "metadata": {},
   "outputs": [],
   "source": [
    "# we already have an idea on dp "
   ]
  },
  {
   "cell_type": "markdown",
   "metadata": {},
   "source": [
    "### **Divide and Conquer: Easy to Parallelize**  \n",
    "Divide and conquer **splits** a big problem into smaller, independent subproblems. These subproblems do **not** depend on each other, so they can be solved **at the same time** (in parallel).  \n",
    "\n",
    "#### **Example:**  \n",
    "Imagine you have 100 apples to cut. Instead of doing it alone, you give 50 apples to one friend and 50 to another. Both friends work at the same time, and once they're done, you put everything together. **This is parallel processing!**  \n",
    "\n",
    "#### **Real-world Example in Computing:**  \n",
    "- **Merge Sort:** The left half and right half of an array can be sorted at the same time before merging them.  \n",
    "- **Quick Sort:** Each partition can be sorted independently"
   ]
  },
  {
   "cell_type": "code",
   "execution_count": null,
   "metadata": {},
   "outputs": [],
   "source": [
    "# array to give possibly  arr = [38, 27, 43, 3, 9, 82, 10]"
   ]
  },
  {
   "cell_type": "code",
   "execution_count": null,
   "metadata": {},
   "outputs": [],
   "source": [
    "def merge_sort(arr):\n",
    "    if len(arr) <= 1:\n",
    "        return arr  # Base case: If the list has 1 or 0 elements, it's already sorted\n",
    "    \n",
    "    # Step 1: Divide the array into two halves\n",
    "    mid = len(arr) // 2\n",
    "    left_half = merge_sort(arr[:mid])  # Recursively sort the left half\n",
    "    right_half = merge_sort(arr[mid:])  # Recursively sort the right half\n",
    "    \n",
    "    # Step 2: Conquer by merging the sorted halves\n",
    "    return merge(left_half, right_half)\n"
   ]
  },
  {
   "cell_type": "code",
   "execution_count": null,
   "metadata": {},
   "outputs": [],
   "source": [
    "def merge(left, right):\n",
    "    sorted_list = []\n",
    "    i = j = 0\n",
    "\n",
    "    # Compare elements from both halves and merge them in sorted order\n",
    "    while i < len(left) and j < len(right):\n",
    "        if left[i] < right[j]:\n",
    "            sorted_list.append(left[i])\n",
    "            i += 1\n",
    "        else:\n",
    "            sorted_list.append(right[j])\n",
    "            j += 1\n",
    "    \n",
    "    # Append any remaining elements\n",
    "    sorted_list.extend(left[i:])\n",
    "    sorted_list.extend(right[j:])\n",
    "    \n",
    "    return sorted_list"
   ]
  },
  {
   "cell_type": "markdown",
   "metadata": {},
   "source": [
    "### **Dynamic Programming: Hard to Parallelize**  \n",
    "Dynamic programming (DP) is different. Here, subproblems **depend on each other**—one subproblem needs the result of another before it can be solved. Because of this dependency, we **cannot** solve them at the same time.  \n",
    "\n",
    "#### **Example:**  \n",
    "Imagine you are building a staircase. You can't build the 5th step until the 4th step is in place. Since each step depends on the one before it, you have to go **one by one** instead of all at once.  \n",
    "\n",
    "#### **Real-world Example in Computing:**  \n",
    "- **Fibonacci Sequence using DP:** To find `fib(10)`, we need `fib(9)` and `fib(8)`, and to find `fib(9)`, we need `fib(8)` and `fib(7)`. This creates dependencies, making it hard to parallelize.  \n",
    "- **Shortest Path Algorithms (like Floyd-Warshall):** Each step relies on previous calculations.\n",
    "\n",
    "---\n",
    "\n",
    "### **Final Summary**  \n",
    "- **Divide and Conquer:** Problems are broken into **independent** parts, so we can solve them **in parallel** (multiple workers at the same time).  \n",
    "- **Dynamic Programming:** Problems have **dependencies**, so we must solve them **one step at a time**.   "
   ]
  },
  {
   "cell_type": "code",
   "execution_count": null,
   "metadata": {},
   "outputs": [],
   "source": [
    "\"\"\"\n",
    "So next time you hear about parallel computing, remember:  \n",
    "\n",
    "Divide and conquer is like multiple people working separately—fast and efficient.  \n",
    "\n",
    "Dynamic programming is like a step-by-step process—you must finish one step before moving to the next.\n",
    "\n",
    "Top-down dynamic programming solutions make recursive calls according to the recurrence relation while bottom-up dynamic programming solutions strategically  iterate over \n",
    "each state.\n",
    "\n",
    "\"\"\""
   ]
  },
  {
   "cell_type": "markdown",
   "metadata": {},
   "source": [
    "### **Key Differences**\n",
    "| Feature            | Top-Down (Memoization)  | Bottom-Up (Tabulation) |\n",
    "|--------------------|------------------------|------------------------|\n",
    "| **How it Works**   | Starts from the main problem and solves subproblems as needed | Solves small subproblems first and builds up to the final answer |\n",
    "| **Uses Recursion?** | ✅ Yes                  | ❌ No                  |\n",
    "| **Memory Usage**   | Higher (due to recursion stack) | Lower (only stores needed results) |\n",
    "| **Speed**         | Slower (recursion overhead) | Faster (avoids recursion) |\n",
    "| **Best For**      | Problems where only some subproblems are needed | Problems where all subproblems must be solved |\n",
    "\n"
   ]
  },
  {
   "cell_type": "markdown",
   "metadata": {},
   "source": []
  },
  {
   "cell_type": "code",
   "execution_count": null,
   "metadata": {},
   "outputs": [],
   "source": [
    "# Which of the following must be done when converting a top-down dynamic programming solution into a bottom-up dynamic programming solution?"
   ]
  },
  {
   "cell_type": "markdown",
   "metadata": {},
   "source": [
    "So When converting a **top-down dynamic programming (DP) solution** into a **bottom-up DP solution**, the main thing that **must** be done is:\n",
    "\n",
    "### **Find the correct order in which to iterate over the states.**\n",
    "\n",
    "Here’s why:\n",
    "\n",
    "1. **Top-Down DP** uses recursion, and it solves problems as it encounters them. It starts with the big problem and recursively breaks it down into smaller subproblems, solving them when needed. Since it's recursive, the order of solving the subproblems doesn’t matter as long as we eventually solve the base cases and calculate the necessary subproblems.\n",
    "\n",
    "2. **Bottom-Up DP** works differently. It **iterates** through all the subproblems in a specific **order**. The key is that when solving a subproblem, all the previous subproblems it depends on **must already be solved**. This requires us to figure out the correct order to process the subproblems, starting from the base cases and working up to the final solution.\n",
    "\n",
    "   - In bottom-up, you can’t just pick any subproblem to solve at random—you need to solve them in the **right order** to ensure all dependencies are resolved.  \n",
    "\n",
    "### **So, to convert from top-down to bottom-up**, we need to:\n",
    "- **Identify the correct order** in which the subproblems should be solved so that each one depends only on results that have already been calculated.\n",
    "\n",
    "Everything else (like the base cases and recurrence relation) usually stays the same. The **only new thing** in bottom-up is **iterating over the subproblems in the correct order**.\n",
    "\n",
    "Does that help clarify things?"
   ]
  },
  {
   "cell_type": "code",
   "execution_count": null,
   "metadata": {},
   "outputs": [],
   "source": []
  }
 ],
 "metadata": {
  "kernelspec": {
   "display_name": "Python 3",
   "language": "python",
   "name": "python3"
  },
  "language_info": {
   "name": "python",
   "version": "3.12.8"
  }
 },
 "nbformat": 4,
 "nbformat_minor": 2
}
