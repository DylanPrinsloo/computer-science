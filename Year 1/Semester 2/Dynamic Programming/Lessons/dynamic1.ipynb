{
 "cells": [
  {
   "cell_type": "markdown",
   "metadata": {},
   "source": [
    "# Introduction to Dynaamic Programming 1"
   ]
  },
  {
   "cell_type": "code",
   "execution_count": null,
   "metadata": {},
   "outputs": [],
   "source": [
    "# init"
   ]
  },
  {
   "cell_type": "markdown",
   "metadata": {},
   "source": [
    "# Climbing Stairs\n",
    "\n",
    "You are climbing a staircase. It takes `n` steps to reach the top.\n",
    "\n",
    "Each time you can either climb 1 or 2 steps. In how many distinct ways can you climb to the top?\n",
    "\n",
    "---\n",
    "\n",
    "## Example 1\n",
    "\n",
    "**Input:**  \n",
    "`n = 2`\n",
    "\n",
    "**Output:**  \n",
    "`2`\n",
    "\n",
    "**Explanation:**  \n",
    "There are two ways to climb to the top:\n",
    "1. 1 step + 1 step  \n",
    "2. 2 steps  \n",
    "\n",
    "---\n",
    "\n",
    "## Example 2\n",
    "\n",
    "**Input:**  \n",
    "`n = 3`\n",
    "\n",
    "**Output:**  \n",
    "`3`\n",
    "\n",
    "**Explanation:**  \n",
    "There are three ways to climb to the top:\n",
    "1. 1 step + 1 step + 1 step  \n",
    "2. 1 step + 2 steps  \n",
    "3. 2 steps + 1 step  \n",
    "\n",
    "---\n",
    "\n",
    "## Constraints\n",
    "- 1 <= n <= 45\n"
   ]
  },
  {
   "cell_type": "code",
   "execution_count": null,
   "metadata": {},
   "outputs": [],
   "source": [
    "# using recursion"
   ]
  },
  {
   "cell_type": "code",
   "execution_count": null,
   "metadata": {},
   "outputs": [],
   "source": [
    "# o ms\n",
    "class Solution(object):\n",
    "    def climbStairs(self, n):\n",
    "        \"\"\"\n",
    "        :type n: int\n",
    "        :rtype: int\n",
    "        \"\"\"\n",
    "        if n <= 2:\n",
    "            return n  \n",
    "        \n",
    "        prev2, prev1 = 1, 2 \n",
    "        \n",
    "        for i in range(3, n + 1):  \n",
    "            curr = prev1 + prev2 \n",
    "            prev2, prev1 = prev1, curr  \n",
    "        \n",
    "        return prev1"
   ]
  },
  {
   "cell_type": "markdown",
   "metadata": {},
   "source": [
    "# Fibonacci Number\n",
    "\n",
    "The Fibonacci numbers, commonly denoted \\( F(n) \\), form a sequence called the Fibonacci sequence, where each number is the sum of the two preceding ones, starting from 0 and 1. The sequence is defined as follows:\n",
    "\n",
    "- F(0) = 0, F(1) = 1\n",
    "- F(n) = F(n - 1) + F(n - 2), for n > 1.\n",
    "\n",
    "Given an integer `n`, calculate \\( F(n) \\).\n",
    "\n",
    "---\n",
    "\n",
    "## Example 1\n",
    "\n",
    "**Input:**  \n",
    "`n = 2`\n",
    "\n",
    "**Output:**  \n",
    "`1`\n",
    "\n",
    "**Explanation:**  \n",
    "- F(2) = F(1) + F(0) = 1 + 0 = 1.\n",
    "\n",
    "---\n",
    "\n",
    "## Example 2\n",
    "\n",
    "**Input:**  \n",
    "`n = 3`\n",
    "\n",
    "**Output:**  \n",
    "`2`\n",
    "\n",
    "**Explanation:**  \n",
    "- F(3) = F(2) + F(1) = 1 + 1 = 2.\n",
    "\n",
    "---\n",
    "\n",
    "## Example 3\n",
    "\n",
    "**Input:**  \n",
    "`n = 4`\n",
    "\n",
    "**Output:**  \n",
    "`3`\n",
    "\n",
    "**Explanation:**  \n",
    "- F(4) = F(3) + F(2) = 2 + 1 = 3.\n",
    "\n",
    "---\n",
    "\n",
    "## Constraints\n",
    "- 0 <= n <= 30\n"
   ]
  },
  {
   "cell_type": "code",
   "execution_count": null,
   "metadata": {},
   "outputs": [],
   "source": [
    "# Fibonacci sequence \n",
    "# F(n) = F(n - 1) + F(n - 2)"
   ]
  },
  {
   "cell_type": "code",
   "execution_count": null,
   "metadata": {},
   "outputs": [],
   "source": [
    "# iterative solution\n",
    "class Solution(object):\n",
    "    def fib(self, n):\n",
    "        if n == 0:\n",
    "            return 0\n",
    "        elif n == 1:\n",
    "            return 1\n",
    "\n",
    "        a, b = 0, 1\n",
    "        for _ in range(2, n + 1):\n",
    "            a, b = b, a + b\n",
    "        return b"
   ]
  },
  {
   "cell_type": "code",
   "execution_count": null,
   "metadata": {},
   "outputs": [],
   "source": [
    "# recursive solution\n",
    "def fib_recursive(n):\n",
    "    if n == 0:\n",
    "        return 0\n",
    "    elif n == 1:\n",
    "        return 1\n",
    "    return fib_recursive(n - 1) + fib_recursive(n - 2)\n"
   ]
  },
  {
   "cell_type": "code",
   "execution_count": null,
   "metadata": {},
   "outputs": [],
   "source": [
    "# recursive with memoization\n",
    "def fib_memo(n, memo={}):\n",
    "    if n in memo:\n",
    "        return memo[n]\n",
    "    if n == 0:\n",
    "        return 0\n",
    "    elif n == 1:\n",
    "        return 1\n",
    "    memo[n] = fib_memo(n - 1, memo) + fib_memo(n - 2, memo)\n",
    "    return memo[n]\n"
   ]
  },
  {
   "cell_type": "markdown",
   "metadata": {},
   "source": [
    "# 1137. N-th Tribonacci Number\n",
    "\n",
    "**Easy**\n",
    "\n",
    "---\n",
    "\n",
    "### The Tribonacci sequence Tn is defined as follows: \n",
    "\n",
    "T0 = 0, T1 = 1, T2 = 1, and Tn+3 = Tn + Tn+1 + Tn+2 for n >= 0.\n",
    "\n",
    "Given n, return the value of Tn.\n",
    "\n",
    "---\n",
    "\n",
    "### Example 1:\n",
    "\n",
    "- Input: n = 4\n",
    "- Output: 4\n",
    "- Explanation:\n",
    "- T_3 = 0 + 1 + 1 = 2\n",
    "- T_4 = 1 + 1 + 2 = 4\n",
    "---\n",
    "\n",
    "### Example 2:\n",
    "\n",
    "- Input: n = 25\n",
    "- Output: 1389537\n",
    "\n",
    "---\n",
    "\n",
    "### Constraints:\n",
    "\n",
    "- 0 <= n <= 37\n",
    "\n",
    "- The answer is guaranteed to fit within a 32-bit integer, ie. answer <= 2^31 - 1."
   ]
  },
  {
   "cell_type": "code",
   "execution_count": null,
   "metadata": {},
   "outputs": [],
   "source": []
  }
 ],
 "metadata": {
  "kernelspec": {
   "display_name": "Python 3",
   "language": "python",
   "name": "python3"
  },
  "language_info": {
   "name": "python",
   "version": "3.13.0"
  }
 },
 "nbformat": 4,
 "nbformat_minor": 2
}
