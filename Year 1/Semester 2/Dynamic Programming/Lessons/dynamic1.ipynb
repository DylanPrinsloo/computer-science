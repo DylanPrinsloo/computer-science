{
 "cells": [
  {
   "cell_type": "markdown",
   "metadata": {},
   "source": [
    "# Introduction to Dynamic Programming 1"
   ]
  },
  {
   "cell_type": "code",
   "execution_count": null,
   "metadata": {},
   "outputs": [],
   "source": [
    "# init"
   ]
  },
  {
   "cell_type": "markdown",
   "metadata": {},
   "source": [
    "## 70. Climbing Stairs\n",
    "**Difficulty:** Easy\n",
    "\n",
    "### Problem Description:\n",
    "You are climbing a staircase. It takes `n` steps to reach the top.\n",
    "\n",
    "Each time you can either climb 1 step or 2 steps. In how many distinct ways can you climb to the top?\n",
    "\n",
    "### Example 1:\n",
    "**Input:** `n = 2`  \n",
    "**Output:** `2`  \n",
    "**Explanation:** There are two ways to climb to the top.\n",
    "1. 1 step + 1 step\n",
    "2. 2 steps\n",
    "\n",
    "### Example 2:\n",
    "**Input:** `n = 3`  \n",
    "**Output:** `3`  \n",
    "**Explanation:** There are three ways to climb to the top.\n",
    "1. 1 step + 1 step + 1 step\n",
    "2. 1 step + 2 steps\n",
    "3. 2 steps + 1 step\n",
    "\n",
    "### Constraints:\n",
    "- `1 <= n <= 45`\n"
   ]
  },
  {
   "cell_type": "code",
   "execution_count": null,
   "metadata": {},
   "outputs": [],
   "source": [
    "# Recursion"
   ]
  },
  {
   "cell_type": "code",
   "execution_count": null,
   "metadata": {},
   "outputs": [],
   "source": [
    "# 0 ms\n",
    "class Solution(object):\n",
    "    def climbStairs(self, n):\n",
    "        \"\"\"\n",
    "        :type n: int\n",
    "        :rtype: int\n",
    "        \"\"\"\n",
    "        if n <= 2:\n",
    "            return n  \n",
    "        \n",
    "        prev2, prev1 = 1, 2 \n",
    "        \n",
    "        for i in range(3, n + 1):  \n",
    "            curr = prev1 + prev2 \n",
    "            prev2, prev1 = prev1, curr  \n",
    "        \n",
    "        return prev1 \n"
   ]
  },
  {
   "cell_type": "markdown",
   "metadata": {},
   "source": [
    "# 509. Fibonacci Number\n",
    "\n",
    "**Difficulty:** Easy  \n",
    "**Topics:** Dynamic Programming, Recursion, Math  \n",
    "**Companies:** Multiple  \n",
    "\n",
    "---\n",
    "\n",
    "## Problem Description\n",
    "\n",
    "The Fibonacci numbers, commonly denoted as \\( F(n) \\), form a sequence called the Fibonacci sequence, such that each number is the sum of the two preceding ones, starting from \\( F(0) = 0 \\) and \\( F(1) = 1 \\). That is:\n",
    "\n",
    "\\[\n",
    "F(0) = 0, \\quad F(1) = 1\n",
    "\\]\n",
    "\\[\n",
    "F(n) = F(n - 1) + F(n - 2), \\text{ for } n > 1\n",
    "\\]\n",
    "\n",
    "Given \\( n \\), calculate \\( F(n) \\).\n",
    "\n",
    "---\n",
    "\n",
    "## Examples\n",
    "\n",
    "### Example 1:\n",
    "**Input:**  \n",
    "\\[\n",
    "n = 2\n",
    "\\]\n",
    "\n",
    "**Output:**  \n",
    "\\[\n",
    "1\n",
    "\\]\n",
    "\n",
    "**Explanation:**  \n",
    "\\[\n",
    "F(2) = F(1) + F(0) = 1 + 0 = 1\n",
    "\\]\n",
    "\n",
    "---\n",
    "\n",
    "### Example 2:\n",
    "**Input:**  \n",
    "\\[\n",
    "n = 3\n",
    "\\]\n",
    "\n",
    "**Output:**  \n",
    "\\[\n",
    "2\n",
    "\\]\n",
    "\n",
    "**Explanation:**  \n",
    "\\[\n",
    "F(3) = F(2) + F(1) = 1 + 1 = 2\n",
    "\\]\n",
    "\n",
    "---\n",
    "\n",
    "### Example 3:\n",
    "**Input:**  \n",
    "\\[\n",
    "n = 4\n",
    "\\]\n",
    "\n",
    "**Output:**  \n",
    "\\[\n",
    "3\n",
    "\\]\n",
    "\n",
    "**Explanation:**  \n",
    "\\[\n",
    "F(4) = F(3) + F(2) = 2 + 1 = 3\n",
    "\\]\n",
    "\n",
    "---\n",
    "\n",
    "## Constraints:\n",
    "- \\( 0 \\leq n \\leq 30 \\)\n",
    "\n",
    "---\n",
    "\n",
    "## Notes:\n",
    "- The problem can be solved using various approaches such as recursion, iteration, or dynamic programming.\n",
    "- \\( F(n) \\) grows exponentially, but within the constraint \\( 0 \\leq n \\leq 30 \\), it remains computationally feasible.\n",
    "\n",
    "---  \n",
    "**Follow-Up:**  \n",
    "Can you optimize your solution to achieve \\( O(n) \\) time complexity with \\( O(1) \\) space?  \n"
   ]
  },
  {
   "cell_type": "code",
   "execution_count": 12,
   "metadata": {},
   "outputs": [
    {
     "data": {
      "text/plain": [
       "0"
      ]
     },
     "execution_count": 12,
     "metadata": {},
     "output_type": "execute_result"
    }
   ],
   "source": []
  }
 ],
 "metadata": {
  "kernelspec": {
   "display_name": "Python 3",
   "language": "python",
   "name": "python3"
  },
  "language_info": {
   "codemirror_mode": {
    "name": "ipython",
    "version": 3
   },
   "file_extension": ".py",
   "mimetype": "text/x-python",
   "name": "python",
   "nbconvert_exporter": "python",
   "pygments_lexer": "ipython3",
   "version": "3.12.4"
  }
 },
 "nbformat": 4,
 "nbformat_minor": 2
}
