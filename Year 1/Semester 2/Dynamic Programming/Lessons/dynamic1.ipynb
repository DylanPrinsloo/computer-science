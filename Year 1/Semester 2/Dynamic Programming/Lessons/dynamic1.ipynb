{
 "cells": [
  {
   "cell_type": "markdown",
   "metadata": {},
   "source": [
    "# Dynamic Programming 1"
   ]
  },
  {
   "cell_type": "markdown",
   "metadata": {},
   "source": [
    "Dynamic programming (DP) is a method for solving complex problems by breaking them down into simpler subproblems and solving each subproblem just once, storing its solution for future use. It is particularly useful for optimization problems where the solution can be composed of solutions to overlapping subproblems.\n",
    "\n",
    "### Key Concepts in Dynamic Programming:\n",
    "\n",
    "1. **Optimal Substructure**:  \n",
    "   A problem exhibits optimal substructure if its optimal solution can be constructed efficiently from the optimal solutions of its subproblems.\n",
    "\n",
    "2. **Overlapping Subproblems**:  \n",
    "   A problem exhibits overlapping subproblems if it can be broken down into subproblems that are reused multiple times.\n",
    "\n",
    "3. **Memoization vs Tabulation**:\n",
    "   - **Memoization (Top-Down Approach)**: Solve the problem recursively, storing the results of subproblems in a table (cache) to avoid redundant computations.\n",
    "   - **Tabulation (Bottom-Up Approach)**: Solve the problem iteratively by filling up a table, starting from the smallest subproblems and building up to the solution.\n",
    "\n",
    "4. **State Representation**:  \n",
    "   DP problems require defining the \"state\" (a set of variables that captures all the necessary information at a given point) and how transitions between states occur.\n",
    "\n",
    "---\n",
    "\n",
    "### Steps to Solve a DP Problem:\n",
    "\n",
    "1. **Define the Problem**:  \n",
    "   Clearly identify what you want to compute (e.g., maximum value, shortest path, etc.).\n",
    "\n",
    "2. **Identify Subproblems**:  \n",
    "   Break down the problem into smaller problems with overlapping characteristics.\n",
    "\n",
    "3. **Define the State**:  \n",
    "   Decide on the variables that uniquely define a subproblem.\n",
    "\n",
    "4. **Write the Recurrence Relation**:  \n",
    "   Express the solution to a state in terms of solutions to other states.\n",
    "\n",
    "5. **Base Case(s)**:  \n",
    "   Identify the simplest subproblem(s) with known solutions.\n",
    "\n",
    "6. **Choose Memoization or Tabulation**:  \n",
    "   Decide whether to implement using a recursive approach with memoization or an iterative tabulation approach.\n",
    "\n",
    "---\n",
    "\n",
    "### Examples of Problems Solved Using DP:\n",
    "\n",
    "1. **Fibonacci Sequence**:\n",
    "   - Recursive solution is slow due to repeated calculations.\n",
    "   - DP stores intermediate results to compute efficiently.\n",
    "\n",
    "2. **Knapsack Problem**:  \n",
    "   Find the maximum value that can fit in a knapsack of given capacity, choosing from a set of items.\n",
    "\n",
    "3. **Longest Common Subsequence (LCS)**:  \n",
    "   Find the longest sequence that can appear in both of two given sequences.\n",
    "\n",
    "4. **Shortest Path Problems** (e.g., Bellman-Ford Algorithm):  \n",
    "   Find the shortest path in a graph with weighted edges.\n",
    "\n",
    "5. **Matrix Chain Multiplication**:  \n",
    "   Minimize the number of scalar multiplications when multiplying a sequence of matrices."
   ]
  },
  {
   "cell_type": "code",
   "execution_count": null,
   "metadata": {},
   "outputs": [],
   "source": [
    "# lets get started"
   ]
  },
  {
   "cell_type": "code",
   "execution_count": null,
   "metadata": {},
   "outputs": [],
   "source": [
    "# init"
   ]
  },
  {
   "cell_type": "markdown",
   "metadata": {},
   "source": [
    "## 70. Climbing Stairs\n",
    "**Difficulty:** Easy\n",
    "\n",
    "### Problem Description:\n",
    "You are climbing a staircase. It takes `n` steps to reach the top.\n",
    "\n",
    "Each time you can either climb 1 step or 2 steps. In how many distinct ways can you climb to the top?\n",
    "\n",
    "### Example 1:\n",
    "**Input:** `n = 2`  \n",
    "**Output:** `2`  \n",
    "**Explanation:** There are two ways to climb to the top.\n",
    "1. 1 step + 1 step\n",
    "2. 2 steps\n",
    "\n",
    "### Example 2:\n",
    "**Input:** `n = 3`  \n",
    "**Output:** `3`  \n",
    "**Explanation:** There are three ways to climb to the top.\n",
    "1. 1 step + 1 step + 1 step\n",
    "2. 1 step + 2 steps\n",
    "3. 2 steps + 1 step\n",
    "\n",
    "### Constraints:\n",
    "- `1 <= n <= 45`\n"
   ]
  },
  {
   "cell_type": "code",
   "execution_count": null,
   "metadata": {},
   "outputs": [],
   "source": []
  }
 ],
 "metadata": {
  "kernelspec": {
   "display_name": "Python 3",
   "language": "python",
   "name": "python3"
  },
  "language_info": {
   "name": "python",
   "version": "3.13.0"
  }
 },
 "nbformat": 4,
 "nbformat_minor": 2
}
