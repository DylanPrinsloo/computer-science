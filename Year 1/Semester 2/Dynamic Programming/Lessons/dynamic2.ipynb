{
 "cells": [
  {
   "cell_type": "markdown",
   "metadata": {},
   "source": [
    "# Dynamic Programming 2"
   ]
  },
  {
   "cell_type": "code",
   "execution_count": null,
   "metadata": {},
   "outputs": [],
   "source": [
    "# init"
   ]
  },
  {
   "cell_type": "markdown",
   "metadata": {},
   "source": [
    "## 198. House Robber\n",
    "\n",
    "### Problem Description\n",
    "\n",
    "You are a professional robber planning to rob houses along a street. Each house has a certain amount of money stashed, but the only constraint stopping you from robbing each of them is that adjacent houses have security systems connected, and they will automatically contact the police if two adjacent houses are broken into on the same night.\n",
    "\n",
    "Given an integer array `nums` representing the amount of money in each house, return the **maximum amount of money** you can rob tonight **without alerting the police**.\n",
    "\n",
    "---\n",
    "\n",
    "### Examples\n",
    "\n",
    "#### Example 1:\n",
    "**Input:** \n",
    "```plaintext\n",
    "nums = [1,2,3,1]\n",
    "```\n",
    "\n",
    "**Output:** \n",
    "```plaintext\n",
    "4\n",
    "```\n",
    "\n",
    "**Explanation:** \n",
    "Rob house 1 (money = 1) and then rob house 3 (money = 3).  \n",
    "Total amount you can rob = `1 + 3 = 4`.\n",
    "\n",
    "---\n",
    "\n",
    "#### Example 2:\n",
    "**Input:** \n",
    "```plaintext\n",
    "nums = [2,7,9,3,1]\n",
    "```\n",
    "\n",
    "**Output:** \n",
    "```plaintext\n",
    "12\n",
    "```\n",
    "\n",
    "**Explanation:**  \n",
    "Rob house 1 (money = 2), rob house 3 (money = 9), and rob house 5 (money = 1).  \n",
    "Total amount you can rob = `2 + 9 + 1 = 12`.\n",
    "\n",
    "---\n",
    "\n",
    "### Constraints\n",
    "\n",
    "- 1 <= nums.length <= 100\n",
    "- 0 <= nums[i] <= 400\n",
    "\n",
    "---\n",
    "\n",
    "### Solution Hints\n",
    "1. This is a **dynamic programming problem**.\n",
    "2. At each house `i`, decide whether to:\n",
    "   - Rob the current house `i` (adding its value to the max profit of house `i-2`), or\n",
    "   - Skip the current house (taking the max profit of house `i-1`).\n",
    "3. Use an array or two variables to keep track of the maximum profits efficiently."
   ]
  },
  {
   "cell_type": "code",
   "execution_count": null,
   "metadata": {},
   "outputs": [],
   "source": []
  }
 ],
 "metadata": {
  "kernelspec": {
   "display_name": "Python 3",
   "language": "python",
   "name": "python3"
  },
  "language_info": {
   "name": "python",
   "version": "3.13.0"
  }
 },
 "nbformat": 4,
 "nbformat_minor": 2
}
