{
 "cells": [
  {
   "cell_type": "markdown",
   "metadata": {},
   "source": [
    "# Introduction to Dynamic programming 6"
   ]
  },
  {
   "cell_type": "code",
   "execution_count": null,
   "metadata": {},
   "outputs": [],
   "source": [
    "# init"
   ]
  },
  {
   "cell_type": "markdown",
   "metadata": {},
   "source": [
    "# 673. Number of Longest Increasing Subsequence\n",
    "\n",
    "#### Difficulty: Medium  \n",
    "\n",
    "---\n",
    "\n",
    "## Problem Description\n",
    "Given an integer array `nums`, return the number of **longest increasing subsequences**.\n",
    "\n",
    "Notice that the sequence must be **strictly increasing**.\n",
    "\n",
    "---\n",
    "\n",
    "## Examples\n",
    "\n",
    "### Example 1:\n",
    "**Input:**  \n",
    "`nums = [1,3,5,4,7]`  \n",
    "**Output:**  \n",
    "`2`  \n",
    "**Explanation:**  \n",
    "The two longest increasing subsequences are `[1, 3, 4, 7]` and `[1, 3, 5, 7]`.\n",
    "\n",
    "---\n",
    "\n",
    "### Example 2:\n",
    "**Input:**  \n",
    "`nums = [2,2,2,2,2]`  \n",
    "**Output:**  \n",
    "`5`  \n",
    "**Explanation:**  \n",
    "The length of the longest increasing subsequence is `1`, and there are `5` increasing subsequences of length `1`, so the output is `5`.\n",
    "\n",
    "---\n",
    "\n",
    "## Constraints:\n",
    "- 1 <= nums.length <= 2000\n",
    "- -10^6 <= nums[i] <= 10^6\n",
    "\n",
    "The answer is guaranteed to fit inside a 32-bit integer.\n"
   ]
  },
  {
   "cell_type": "code",
   "execution_count": null,
   "metadata": {},
   "outputs": [],
   "source": []
  }
 ],
 "metadata": {
  "kernelspec": {
   "display_name": "Python 3",
   "language": "python",
   "name": "python3"
  },
  "language_info": {
   "name": "python",
   "version": "3.13.0"
  }
 },
 "nbformat": 4,
 "nbformat_minor": 2
}
