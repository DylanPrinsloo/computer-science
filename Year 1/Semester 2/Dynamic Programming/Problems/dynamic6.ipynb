{
 "cells": [
  {
   "cell_type": "markdown",
   "metadata": {},
   "source": [
    "# Introduction to Dynamic programming 6"
   ]
  },
  {
   "cell_type": "code",
   "execution_count": null,
   "metadata": {},
   "outputs": [],
   "source": [
    "# init"
   ]
  },
  {
   "cell_type": "markdown",
   "metadata": {},
   "source": [
    "# 673. Number of Longest Increasing Subsequence\n",
    "\n",
    "#### Difficulty: Medium  \n",
    "\n",
    "---\n",
    "\n",
    "## Problem Description\n",
    "Given an integer array `nums`, return the number of **longest increasing subsequences**.\n",
    "\n",
    "Notice that the sequence must be **strictly increasing**.\n",
    "\n",
    "---\n",
    "\n",
    "## Examples\n",
    "\n",
    "### Example 1:\n",
    "**Input:**  \n",
    "`nums = [1,3,5,4,7]`  \n",
    "**Output:**  \n",
    "`2`  \n",
    "**Explanation:**  \n",
    "The two longest increasing subsequences are `[1, 3, 4, 7]` and `[1, 3, 5, 7]`.\n",
    "\n",
    "---\n",
    "\n",
    "### Example 2:\n",
    "**Input:**  \n",
    "`nums = [2,2,2,2,2]`  \n",
    "**Output:**  \n",
    "`5`  \n",
    "**Explanation:**  \n",
    "The length of the longest increasing subsequence is `1`, and there are `5` increasing subsequences of length `1`, so the output is `5`.\n",
    "\n",
    "---\n",
    "\n",
    "## Constraints:\n",
    "- 1 <= nums.length <= 2000\n",
    "- -10^6 <= nums[i] <= 10^6\n",
    "\n",
    "The answer is guaranteed to fit inside a 32-bit integer.\n"
   ]
  },
  {
   "cell_type": "code",
   "execution_count": null,
   "metadata": {},
   "outputs": [],
   "source": [
    "# 766 ms\n",
    "class Solution(object):\n",
    "    def findNumberOfLIS(self, nums):\n",
    "        \"\"\"\n",
    "        :type nums: List[int]\n",
    "        :rtype: int\n",
    "        \"\"\"\n",
    "        n = len(nums)\n",
    "        dp = [1] * n\n",
    "        count = [1] * n\n",
    "\n",
    "        for i in range(n):\n",
    "            for j in range(i):\n",
    "                if nums[j] < nums[i]:\n",
    "                    if dp[j] + 1 > dp[i]:\n",
    "                        dp[i] = dp[j] + 1\n",
    "                        count[i] = count[j]\n",
    "                    elif dp[j] + 1 == dp[i]:\n",
    "                        count[i] += count[j]\n",
    "\n",
    "        max_length = max(dp)\n",
    "        return sum(count[i] for i in range(n) if dp[i] == max_length)"
   ]
  },
  {
   "cell_type": "code",
   "execution_count": null,
   "metadata": {},
   "outputs": [],
   "source": [
    "# 221 ms\n",
    "from collections import Counter\n",
    "\n",
    "class Solution(object):\n",
    "    def findNumberOfLIS(self, nums):\n",
    "        \"\"\"\n",
    "        :type nums: List[int]\n",
    "        :rtype: int\n",
    "        \"\"\"\n",
    "        dp = [1 for _ in nums]\n",
    "        counts = [1 for _ in nums]\n",
    "        \n",
    "        for i in range(len(dp) - 2, -1, -1):\n",
    "            for j in range(i + 1, len(dp)):\n",
    "                if nums[i] < nums[j]:\n",
    "                    if dp[i] < dp[j] + 1:\n",
    "                        dp[i] = dp[j] + 1\n",
    "                        counts[i] = counts[j]\n",
    "                    elif dp[i] == dp[j] + 1:\n",
    "                        counts[i] += counts[j]\n",
    "        res = 0\n",
    "        maximal = max(dp)\n",
    "        for i in range(len(nums)):\n",
    "            if dp[i] == maximal:\n",
    "                res += counts[i]\n",
    "        return res"
   ]
  }
 ],
 "metadata": {
  "kernelspec": {
   "display_name": "Python 3",
   "language": "python",
   "name": "python3"
  },
  "language_info": {
   "name": "python",
   "version": "3.13.0"
  }
 },
 "nbformat": 4,
 "nbformat_minor": 2
}
