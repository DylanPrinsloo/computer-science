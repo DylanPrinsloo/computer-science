{
 "cells": [
  {
   "cell_type": "markdown",
   "metadata": {},
   "source": [
    "# **Maths**\n",
    "Mathematical concepts underpin many algorithms and data structures, including algebra, calculus, probability, and number theory.\n",
    "   - **Applications:** Graph theory, algorithm analysis, cryptography."
   ]
  },
  {
   "cell_type": "code",
   "execution_count": null,
   "metadata": {},
   "outputs": [],
   "source": [
    "# Collection of mathematical algorithms and functions.\n",
    "\n",
    "from .base_conversion import *\n",
    "from .decimal_to_binary_ip import *\n",
    "from .euler_totient import *\n",
    "from .extended_gcd import *\n",
    "from .factorial import *\n",
    "from .gcd import *\n",
    "from .generate_strobogrammtic import *\n",
    "from .is_strobogrammatic import *\n",
    "from .modular_exponential import *\n",
    "from .next_perfect_square import *\n",
    "from .prime_check import *\n",
    "from .primes_sieve_of_eratosthenes import *\n",
    "from .pythagoras import *\n",
    "from .rabin_miller import *\n",
    "from .rsa import *\n",
    "from .combination import *\n",
    "from .cosine_similarity import *\n",
    "from .find_order_simple import *\n",
    "from .find_primitive_root_simple import *\n",
    "from .diffie_hellman_key_exchange import *\n",
    "from .num_digits import *\n",
    "from .power import *\n",
    "from .magic_number import *\n",
    "from .krishnamurthy_number import *\n",
    "from .num_perfect_squares import *\n",
    "import math\n",
    "from cmath import exp, pi"
   ]
  },
  {
   "cell_type": "markdown",
   "metadata": {},
   "source": [
    "## Basic Mathematics & Number Theory:"
   ]
  },
  {
   "cell_type": "markdown",
   "metadata": {},
   "source": [
    "#### Counting digits in a number"
   ]
  },
  {
   "cell_type": "code",
   "execution_count": null,
   "metadata": {},
   "outputs": [],
   "source": [
    "\"\"\"\n",
    "num_digits() method will return the number of digits of a number in O(1) time using\n",
    "math.log10() method.\n",
    "\"\"\""
   ]
  },
  {
   "cell_type": "code",
   "execution_count": null,
   "metadata": {},
   "outputs": [],
   "source": [
    "# import math"
   ]
  },
  {
   "cell_type": "code",
   "execution_count": null,
   "metadata": {},
   "outputs": [],
   "source": [
    "def num_digits(n):\n",
    "    n=abs(n)\n",
    "    if n==0:\n",
    "        return 1\n",
    "    return int(math.log10(n))+1"
   ]
  },
  {
   "cell_type": "markdown",
   "metadata": {},
   "source": [
    "#### Checking if a number is prime"
   ]
  },
  {
   "cell_type": "code",
   "execution_count": null,
   "metadata": {},
   "outputs": [],
   "source": [
    "def prime_check(n):\n",
    "    \"\"\"Return True if n is a prime number\n",
    "    Else return False.\n",
    "    \"\"\"\n",
    "\n",
    "    if n <= 1:\n",
    "        return False\n",
    "    if n == 2 or n == 3:\n",
    "        return True\n",
    "    if n % 2 == 0 or n % 3 == 0:\n",
    "        return False\n",
    "    j = 5\n",
    "    while j * j <= n:\n",
    "        if n % j == 0 or n % (j + 2) == 0:\n",
    "            return False\n",
    "        j += 6\n",
    "    return True"
   ]
  },
  {
   "cell_type": "markdown",
   "metadata": {},
   "source": [
    "#### Pythagorean theorem"
   ]
  },
  {
   "cell_type": "code",
   "execution_count": null,
   "metadata": {},
   "outputs": [],
   "source": [
    "\"\"\"\n",
    "Given the lengths of two of the three sides of a right angled triangle, this function returns the\n",
    "length of the third side.\n",
    "\"\"\""
   ]
  },
  {
   "cell_type": "code",
   "execution_count": null,
   "metadata": {},
   "outputs": [],
   "source": [
    "def pythagoras(opposite, adjacent, hypotenuse):\n",
    "    \"\"\"\n",
    "    Returns length of a third side of a right angled triangle.\n",
    "    Passing \"?\" will indicate the unknown side.\n",
    "    \"\"\"\n",
    "    try:\n",
    "        if opposite == str(\"?\"):\n",
    "            return (\"Opposite = \" + str(((hypotenuse**2) - (adjacent**2))**0.5))\n",
    "        if adjacent == str(\"?\"):\n",
    "            return (\"Adjacent = \" + str(((hypotenuse**2) - (opposite**2))**0.5))\n",
    "        if hypotenuse == str(\"?\"):\n",
    "            return (\"Hypotenuse = \" + str(((opposite**2) + (adjacent**2))**0.5))\n",
    "        return \"You already know the answer!\"\n",
    "    except:\n",
    "        raise ValueError(\"invalid argument(s) were given.\")"
   ]
  },
  {
   "cell_type": "markdown",
   "metadata": {},
   "source": [
    "#### Computing factorials"
   ]
  },
  {
   "cell_type": "code",
   "execution_count": null,
   "metadata": {},
   "outputs": [],
   "source": [
    "\"\"\"\n",
    "Calculates the factorial with the added functionality of calculating it modulo mod.\n",
    "\"\"\""
   ]
  },
  {
   "cell_type": "code",
   "execution_count": null,
   "metadata": {},
   "outputs": [],
   "source": [
    "def factorial(n, mod=None):\n",
    "    \"\"\"\n",
    "    Calculates factorial iteratively.\n",
    "    If mod is not None, then return (n! % mod)\n",
    "    Time Complexity - O(n)\n",
    "    \"\"\"\n",
    "    if not (isinstance(n, int) and n >= 0):\n",
    "        raise ValueError(\"'n' must be a non-negative integer.\")\n",
    "    if mod is not None and not (isinstance(mod, int) and mod > 0):\n",
    "        raise ValueError(\"'mod' must be a positive integer\")\n",
    "    result = 1\n",
    "    if n == 0:\n",
    "        return 1\n",
    "    for i in range(2, n+1):\n",
    "        result *= i\n",
    "        if mod:\n",
    "            result %= mod\n",
    "    return result"
   ]
  },
  {
   "cell_type": "code",
   "execution_count": null,
   "metadata": {},
   "outputs": [],
   "source": [
    "def factorial_recur(n, mod=None):\n",
    "    \"\"\"\n",
    "    Calculates factorial recursively.\n",
    "    If mod is not None, then return (n! % mod)\n",
    "    Time Complexity - O(n)\n",
    "    \"\"\"\n",
    "    if not (isinstance(n, int) and n >= 0):\n",
    "        raise ValueError(\"'n' must be a non-negative integer.\")\n",
    "    if mod is not None and not (isinstance(mod, int) and mod > 0):\n",
    "        raise ValueError(\"'mod' must be a positive integer\")\n",
    "    if n == 0:\n",
    "        return 1\n",
    "    result = n * factorial(n - 1, mod)\n",
    "    if mod:\n",
    "        result %= mod\n",
    "    return result"
   ]
  },
  {
   "cell_type": "markdown",
   "metadata": {},
   "source": [
    "#### Fast Fourier Transform basics"
   ]
  },
  {
   "cell_type": "code",
   "execution_count": null,
   "metadata": {},
   "outputs": [],
   "source": [
    "\"\"\"\n",
    "Implementation of the Cooley-Tukey, which is the most common FFT algorithm.\n",
    "\n",
    "Input: an array of complex values which has a size of N, where N is an integer power of 2\n",
    "Output: an array of complex values which is the discrete fourier transform of the input\n",
    "\n",
    "Example 1\n",
    "Input: [2.0+2j, 1.0+3j, 3.0+1j, 2.0+2j]\n",
    "Output: [8+8j, 2j, 2-2j, -2+0j]\n",
    "\n",
    "\"\"\""
   ]
  },
  {
   "cell_type": "code",
   "execution_count": null,
   "metadata": {},
   "outputs": [],
   "source": [
    "# from cmath import exp, pi"
   ]
  },
  {
   "cell_type": "code",
   "execution_count": null,
   "metadata": {},
   "outputs": [],
   "source": [
    "# Pseudocode: https://en.wikipedia.org/wiki/Cooley%E2%80%93Tukey_FFT_algorithm\n",
    "\n",
    "def fft(x):\n",
    "    \"\"\" \n",
    "    Recursive implementation of the Cooley-Tukey\n",
    "    \"\"\"\n",
    "    N = len(x)\n",
    "    if N == 1:\n",
    "        return x\n",
    "\n",
    "    # get the elements at even/odd indices\n",
    "    even = fft(x[0::2])\n",
    "    odd = fft(x[1::2])\n",
    "\n",
    "    y = [0 for i in range(N)]\n",
    "    for k in range(N//2):\n",
    "        q = exp(-2j*pi*k/N)*odd[k]\n",
    "        y[k] = even[k] + q\n",
    "        y[k + N//2] = even[k] - q\n",
    "\n",
    "    return y"
   ]
  },
  {
   "cell_type": "markdown",
   "metadata": {},
   "source": [
    "#### Adding digits of a number"
   ]
  },
  {
   "cell_type": "code",
   "execution_count": null,
   "metadata": {},
   "outputs": [],
   "source": [
    "\"\"\"\n",
    "Recently, I encountered an interview question whose description was as below:\n",
    "\n",
    "The number 89 is the first integer with more than one digit whose digits when raised up to\n",
    "consecutive powers give the same number. For example, 89 = 8**1 + 9**2 gives the number 89.\n",
    "\n",
    "The next number after 89 with this property is 135 = 1**1 + 3**2 + 5**3 = 135.\n",
    "\n",
    "Write a function that returns a list of numbers with the above property. The function will\n",
    "receive range as parameter.\n",
    "\"\"\""
   ]
  },
  {
   "cell_type": "code",
   "execution_count": null,
   "metadata": {},
   "outputs": [],
   "source": [
    "def sum_dig_pow(low, high):\n",
    "    result = []\n",
    "\n",
    "    for number in range(low, high + 1):\n",
    "        exponent = 1  # set to 1\n",
    "        summation = 0    # set to 1\n",
    "        number_as_string = str(number)\n",
    "\n",
    "        tokens = list(map(int, number_as_string))  # parse the string into individual digits\n",
    "\n",
    "        for k in tokens:\n",
    "            summation = summation + (k ** exponent)\n",
    "            exponent += 1\n",
    "\n",
    "        if summation == number:\n",
    "            result.append(number)\n",
    "    return result\n",
    "\n",
    "\n",
    "# Some test cases:\n",
    "assert sum_dig_pow(1, 10) == [1, 2, 3, 4, 5, 6, 7, 8, 9]\n",
    "assert sum_dig_pow(1, 100) == [1, 2, 3, 4, 5, 6, 7, 8, 9, 89]"
   ]
  }
 ],
 "metadata": {
  "kernelspec": {
   "display_name": "Python 3",
   "language": "python",
   "name": "python3"
  },
  "language_info": {
   "name": "python",
   "version": "3.12.4"
  }
 },
 "nbformat": 4,
 "nbformat_minor": 2
}
