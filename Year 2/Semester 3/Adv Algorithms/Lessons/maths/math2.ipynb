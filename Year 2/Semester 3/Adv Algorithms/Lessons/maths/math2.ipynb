{
 "cells": [
  {
   "cell_type": "markdown",
   "metadata": {},
   "source": [
    "# Number Properties"
   ]
  },
  {
   "cell_type": "code",
   "execution_count": null,
   "metadata": {},
   "outputs": [],
   "source": [
    "# init\n",
    "from .base_conversion import *\n",
    "from .decimal_to_binary_ip import *\n",
    "from .euler_totient import *\n",
    "from .extended_gcd import *\n",
    "from .factorial import *\n",
    "from .gcd import *\n",
    "from .generate_strobogrammtic import *\n",
    "from .is_strobogrammatic import *\n",
    "from .modular_exponential import *\n",
    "from .next_perfect_square import *\n",
    "from .prime_check import *\n",
    "from .primes_sieve_of_eratosthenes import *\n",
    "from .pythagoras import *\n",
    "from .rabin_miller import *\n",
    "from .rsa import *\n",
    "from .combination import *\n",
    "from .cosine_similarity import *\n",
    "from .find_order_simple import *\n",
    "from .find_primitive_root_simple import *\n",
    "from .diffie_hellman_key_exchange import *\n",
    "from .num_digits import *\n",
    "from .power import *\n",
    "from .magic_number import *\n",
    "from .krishnamurthy_number import *\n",
    "from .num_perfect_squares import *\n",
    "import math\n",
    "from cmath import exp, pi"
   ]
  },
  {
   "cell_type": "markdown",
   "metadata": {},
   "source": [
    "#### Checking perfect squares"
   ]
  },
  {
   "cell_type": "code",
   "execution_count": null,
   "metadata": {},
   "outputs": [],
   "source": [
    "\"\"\"\n",
    "This program will look for the next perfect square.\n",
    "\n",
    "Check the argument to see if it is a perfect square itself, if it is not then return -1 otherwise\n",
    "look for the next perfect square.\n",
    "for instance if you pass 121 then the script should return the next perfect square which is 144.\n",
    "\"\"\""
   ]
  },
  {
   "cell_type": "code",
   "execution_count": null,
   "metadata": {},
   "outputs": [],
   "source": [
    "def find_next_square(sq):\n",
    "    root = sq ** 0.5\n",
    "    if root.is_integer():\n",
    "        return (root + 1)**2\n",
    "    return -1"
   ]
  },
  {
   "cell_type": "code",
   "execution_count": null,
   "metadata": {},
   "outputs": [],
   "source": [
    "# Alternative method, works by evaluating anything non-zero as True (0.000001 --> True) \n",
    "def find_next_square2(sq):\n",
    "    root = sq**0.5\n",
    "    return -1 if root % 1 else (root+1)**2"
   ]
  },
  {
   "cell_type": "markdown",
   "metadata": {},
   "source": [
    "#### Working with perfect squares"
   ]
  },
  {
   "cell_type": "code",
   "execution_count": null,
   "metadata": {},
   "outputs": [],
   "source": [
    "\"\"\"\n",
    "Given an integer num_perfect_squares will return the minimum amount of perfect squares are required\n",
    "to sum to the specified number. Lagrange's four-square theorem gives us that the answer will always\n",
    "be between 1 and 4 (https://en.wikipedia.org/wiki/Lagrange%27s_four-square_theorem).\n",
    "\n",
    "Some examples:\n",
    "Number | Perfect Squares representation | Answer\n",
    "-------|--------------------------------|--------\n",
    "9      | 3^2                            | 1\n",
    "10     | 3^2 + 1^2                      | 2\n",
    "12     | 2^2 + 2^2 + 2^2                | 3\n",
    "31     | 5^2 + 2^2 + 1^2 + 1^2          | 4\n",
    "\"\"\""
   ]
  },
  {
   "cell_type": "code",
   "execution_count": null,
   "metadata": {},
   "outputs": [],
   "source": [
    "# import math"
   ]
  },
  {
   "cell_type": "code",
   "execution_count": null,
   "metadata": {},
   "outputs": [],
   "source": [
    "def num_perfect_squares(number):\n",
    "    \"\"\"\n",
    "    Returns the smallest number of perfect squares that sum to the specified number.\n",
    "    :return: int between 1 - 4\n",
    "    \"\"\"\n",
    "    # If the number is a perfect square then we only need 1 number.\n",
    "    if int(math.sqrt(number))**2 == number:\n",
    "        return 1\n",
    "\n",
    "    # We check if https://en.wikipedia.org/wiki/Legendre%27s_three-square_theorem holds and divide\n",
    "    # the number accordingly. Ie. if the number can be written as a sum of 3 squares (where the\n",
    "    # 0^2 is allowed), which is possible for all numbers except those of the form: 4^a(8b + 7).\n",
    "    while number > 0 and number % 4 == 0:\n",
    "        number /= 4\n",
    "\n",
    "    # If the number is of the form: 4^a(8b + 7) it can't be expressed as a sum of three (or less\n",
    "    # excluding the 0^2) perfect squares. If the number was of that form, the previous while loop\n",
    "    # divided away the 4^a, so by now it would be of the form: 8b + 7. So check if this is the case\n",
    "    # and return 4 since it neccessarily must be a sum of 4 perfect squares, in accordance \n",
    "    # with https://en.wikipedia.org/wiki/Lagrange%27s_four-square_theorem.\n",
    "    if number % 8 == 7:\n",
    "        return 4\n",
    "\n",
    "    # By now we know that the number wasn't of the form 4^a(8b + 7) so it can be expressed as a sum\n",
    "    # of 3 or less perfect squares. Try first to express it as a sum of 2 perfect squares, and if\n",
    "    # that fails, we know finally that it can be expressed as a sum of 3 perfect squares.\n",
    "    for i in range(1, int(math.sqrt(number)) + 1):\n",
    "        if int(math.sqrt(number - i**2))**2 == number - i**2:\n",
    "            return 2\n",
    "\n",
    "    return 3"
   ]
  },
  {
   "cell_type": "markdown",
   "metadata": {},
   "source": [
    "#### Number base conversion\n",
    "decimal to binary"
   ]
  },
  {
   "cell_type": "code",
   "execution_count": null,
   "metadata": {},
   "outputs": [],
   "source": [
    "\"\"\"\n",
    "Given an ip address in dotted-decimal representation, determine the\n",
    "binary representation. For example,\n",
    "decimal_to_binary(255.0.0.5) returns 11111111.00000000.00000000.00000101\n",
    "accepts string\n",
    "returns string\n",
    "\"\"\""
   ]
  },
  {
   "cell_type": "code",
   "execution_count": null,
   "metadata": {},
   "outputs": [],
   "source": [
    "def decimal_to_binary_util(val):\n",
    "    \"\"\"\n",
    "    Convert 8-bit decimal number to binary representation\n",
    "    :type val: str\n",
    "    :rtype: str\n",
    "    \"\"\"\n",
    "    bits = [128, 64, 32, 16, 8, 4, 2, 1]\n",
    "    val = int(val)\n",
    "    binary_rep = ''\n",
    "    for bit in bits:\n",
    "        if val >= bit:\n",
    "            binary_rep += str(1)\n",
    "            val -= bit\n",
    "        else:\n",
    "            binary_rep += str(0)\n",
    "\n",
    "    return binary_rep\n",
    "\n",
    "def decimal_to_binary_ip(ip):\n",
    "    \"\"\"\n",
    "    Convert dotted-decimal ip address to binary representation with help of decimal_to_binary_util\n",
    "    \"\"\"\n",
    "    values = ip.split('.')\n",
    "    binary_list = []\n",
    "    for val in values:\n",
    "        binary_list.append(decimal_to_binary_util(val))\n",
    "    return '.'.join(binary_list)"
   ]
  },
  {
   "cell_type": "markdown",
   "metadata": {},
   "source": [
    "#### Finding next bigger number"
   ]
  },
  {
   "cell_type": "code",
   "execution_count": null,
   "metadata": {},
   "outputs": [],
   "source": [
    "\"\"\"\n",
    "I just bombed an interview and made pretty much zero\n",
    "progress on my interview question.\n",
    "\n",
    "Given a number, find the next higher number which has the\n",
    "exact same set of digits as the original number.\n",
    "For example: given 38276 return 38627.\n",
    "             given 99999 return -1. (no such number exists)\n",
    "\n",
    "Condensed mathematical description:\n",
    "\n",
    "Find largest index i such that array[i − 1] < array[i].\n",
    "(If no such i exists, then this is already the last permutation.)\n",
    "\n",
    "Find largest index j such that j ≥ i and array[j] > array[i − 1].\n",
    "\n",
    "Swap array[j] and array[i − 1].\n",
    "\n",
    "Reverse the suffix starting at array[i].\n",
    "\n",
    "\"\"\""
   ]
  },
  {
   "cell_type": "code",
   "execution_count": null,
   "metadata": {},
   "outputs": [],
   "source": [
    "# import\n",
    "import unittest"
   ]
  },
  {
   "cell_type": "code",
   "execution_count": null,
   "metadata": {},
   "outputs": [],
   "source": [
    "def next_bigger(num):\n",
    "\n",
    "    digits = [int(i) for i in str(num)]\n",
    "    idx = len(digits) - 1\n",
    "\n",
    "    while idx >= 1 and digits[idx-1] >= digits[idx]:\n",
    "        idx -= 1\n",
    "\n",
    "    if idx == 0:\n",
    "        return -1  # no such number exists\n",
    "\n",
    "    pivot = digits[idx-1]\n",
    "    swap_idx = len(digits) - 1\n",
    "\n",
    "    while pivot >= digits[swap_idx]:\n",
    "        swap_idx -= 1\n",
    "\n",
    "    digits[swap_idx], digits[idx-1] = digits[idx-1], digits[swap_idx]\n",
    "    digits[idx:] = digits[:idx-1:-1]   # prefer slicing instead of reversed(digits[idx:])\n",
    "\n",
    "    return int(''.join(str(x) for x in digits))\n",
    "\n",
    "\n",
    "class TestSuite(unittest.TestCase):\n",
    "\n",
    "    def test_next_bigger(self):\n",
    "\n",
    "        self.assertEqual(next_bigger(38276), 38627)\n",
    "        self.assertEqual(next_bigger(12345), 12354)\n",
    "        self.assertEqual(next_bigger(1528452), 1528524)\n",
    "        self.assertEqual(next_bigger(138654), 143568)\n",
    "\n",
    "        self.assertEqual(next_bigger(54321), -1)\n",
    "        self.assertEqual(next_bigger(999), -1)\n",
    "        self.assertEqual(next_bigger(5), -1)\n",
    "\n",
    "\n",
    "if __name__ == '__main__':\n",
    "\n",
    "    unittest.main()"
   ]
  },
  {
   "cell_type": "markdown",
   "metadata": {},
   "source": [
    "#### Finding nth digit of a number"
   ]
  },
  {
   "cell_type": "code",
   "execution_count": null,
   "metadata": {},
   "outputs": [],
   "source": [
    "def find_nth_digit(n):\n",
    "    \"\"\"\n",
    "    find the nth digit of given number.\n",
    "    1. find the length of the number where the nth digit is from.\n",
    "    2. find the actual number where the nth digit is from\n",
    "    3. find the nth digit and return\n",
    "    \"\"\"\n",
    "    length = 1\n",
    "    count = 9\n",
    "    start = 1\n",
    "    while n > length * count:\n",
    "        n -= length * count\n",
    "        length += 1\n",
    "        count *= 10\n",
    "        start *= 10\n",
    "    start += (n-1) / length\n",
    "    s = str(start)\n",
    "    return int(s[(n-1) % length])"
   ]
  },
  {
   "cell_type": "markdown",
   "metadata": {},
   "source": [
    "#### Finding prime numbers efficiently"
   ]
  },
  {
   "cell_type": "code",
   "execution_count": null,
   "metadata": {},
   "outputs": [],
   "source": [
    "\"\"\"\n",
    "Return list of all primes less than n,\n",
    "Using sieve of Eratosthenes.\n",
    "\n",
    "Modification:\n",
    "We don't need to check all even numbers, we can make the sieve excluding even\n",
    "numbers and adding 2 to the primes list by default.\n",
    "\n",
    "We are going to make an array of: x / 2 - 1 if number is even, else x / 2\n",
    "(The -1 with even number it's to exclude the number itself)\n",
    "Because we just need numbers [from 3..x if x is odd]\n",
    "\n",
    "# We can get value represented at index i with (i*2 + 3)\n",
    "\n",
    "For example, for x = 10, we start with an array of x / 2 - 1 = 4\n",
    "[1, 1, 1, 1]\n",
    " 3  5  7  9\n",
    "\n",
    "For x = 11:\n",
    "[1, 1, 1, 1, 1]\n",
    " 3  5  7  9  11  # 11 is odd, it's included in the list\n",
    "\n",
    "With this, we have reduced the array size to a half,\n",
    "and complexity it's also a half now.\n",
    "\"\"\""
   ]
  },
  {
   "cell_type": "code",
   "execution_count": null,
   "metadata": {},
   "outputs": [],
   "source": [
    "def get_primes(n):\n",
    "    \"\"\"\n",
    "    Return list of all primes less than n,\n",
    "    Using sieve of Eratosthenes.\n",
    "    \"\"\"\n",
    "    if n <= 0:\n",
    "        raise ValueError(\"'n' must be a positive integer.\")\n",
    "    # If x is even, exclude x from list (-1):\n",
    "    sieve_size = (n // 2 - 1) if n % 2 == 0 else (n // 2)\n",
    "    sieve = [True for _ in range(sieve_size)]   # Sieve\n",
    "    primes = []      # List of Primes\n",
    "    if n >= 2:\n",
    "        primes.append(2)      # 2 is prime by default\n",
    "    for i in range(sieve_size):\n",
    "        if sieve[i]:\n",
    "            value_at_i = i*2 + 3\n",
    "            primes.append(value_at_i)\n",
    "            for j in range(i, sieve_size, value_at_i):\n",
    "                sieve[j] = False\n",
    "    return primes"
   ]
  }
 ],
 "metadata": {
  "kernelspec": {
   "display_name": "Python 3",
   "language": "python",
   "name": "python3"
  },
  "language_info": {
   "name": "python",
   "version": "3.12.4"
  }
 },
 "nbformat": 4,
 "nbformat_minor": 2
}
