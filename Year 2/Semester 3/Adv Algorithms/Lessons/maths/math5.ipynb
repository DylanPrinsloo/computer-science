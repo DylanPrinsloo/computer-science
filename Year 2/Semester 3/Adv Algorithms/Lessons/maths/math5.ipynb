{
 "cells": [
  {
   "cell_type": "markdown",
   "metadata": {},
   "source": [
    "# Cryptography & Advanced Concepts"
   ]
  },
  {
   "cell_type": "code",
   "execution_count": null,
   "metadata": {},
   "outputs": [],
   "source": [
    "# init from math.ipynb\n",
    "# insert here\n",
    "import math\n",
    "from random import randint\n",
    "from fractions import Fraction\n",
    "from typing import Dict, Union\n",
    "from polynomial import ( Monomial, Polynomial )\n",
    "from gcd import lcm"
   ]
  },
  {
   "cell_type": "markdown",
   "metadata": {},
   "source": [
    "## Cryptographic key exchange"
   ]
  },
  {
   "cell_type": "markdown",
   "metadata": {},
   "source": [
    "#### Algorithms for performing diffie-hellman key exchange."
   ]
  },
  {
   "cell_type": "markdown",
   "metadata": {},
   "source": [
    "#### Check if a number is prime"
   ]
  },
  {
   "cell_type": "code",
   "execution_count": null,
   "metadata": {},
   "outputs": [],
   "source": [
    "\"\"\"\n",
    "Code from /algorithms/maths/prime_check.py,\n",
    "written by 'goswami-rahul' and 'Hai Honag Dang'\n",
    "\"\"\"\n",
    "def prime_check(num):\n",
    "    \"\"\"\n",
    "    Return True if num is a prime number\n",
    "    Else return False.\n",
    "    \"\"\"\n",
    "\n",
    "    if num <= 1:\n",
    "        return False\n",
    "    if num == 2 or num == 3:\n",
    "        return True\n",
    "    if num % 2 == 0 or num % 3 == 0:\n",
    "        return False\n",
    "    j = 5\n",
    "    while j * j <= num:\n",
    "        if num % j == 0 or num % (j + 2) == 0:\n",
    "            return False\n",
    "        j += 6\n",
    "    return True"
   ]
  },
  {
   "cell_type": "markdown",
   "metadata": {},
   "source": [
    "#### Compute the order of a modulo n"
   ]
  },
  {
   "cell_type": "code",
   "execution_count": null,
   "metadata": {},
   "outputs": [],
   "source": [
    "\"\"\"\n",
    "For positive integer n and given integer a that satisfies gcd(a, n) = 1,\n",
    "the order of a modulo n is the smallest positive integer k that satisfies\n",
    "pow (a, k) % n = 1. In other words, (a^k) ≡ 1 (mod n).\n",
    "Order of certain number may or may not exist. If not, return -1.\n",
    "\"\"\"\n",
    "def find_order(a, n):\n",
    "    if (a == 1) & (n == 1):\n",
    "        # Exception Handeling : 1 is the order of of 1\n",
    "        return 1\n",
    "    if math.gcd(a, n) != 1:\n",
    "        print (\"a and n should be relative prime!\")\n",
    "        return -1\n",
    "    for i in range(1, n):\n",
    "        if pow(a, i) % n == 1:\n",
    "            return i\n",
    "    return -1"
   ]
  },
  {
   "cell_type": "markdown",
   "metadata": {},
   "source": [
    "#### Compute Euler's Totient function ϕ(n)"
   ]
  },
  {
   "cell_type": "code",
   "execution_count": null,
   "metadata": {},
   "outputs": [],
   "source": [
    "\"\"\"\n",
    "Euler's totient function, also known as phi-function ϕ(n),\n",
    "counts the number of integers between 1 and n inclusive,\n",
    "which are coprime to n.\n",
    "(Two numbers are coprime if their greatest common divisor (GCD) equals 1).\n",
    "Code from /algorithms/maths/euler_totient.py, written by 'goswami-rahul'\n",
    "\"\"\"\n",
    "def euler_totient(n):\n",
    "    \"\"\"Euler's totient function or Phi function.\n",
    "    Time Complexity: O(sqrt(n)).\"\"\"\n",
    "    result = n\n",
    "    for i in range(2, int(n ** 0.5) + 1):\n",
    "        if n % i == 0:\n",
    "            while n % i == 0:\n",
    "                n //= i\n",
    "            result -= result // i\n",
    "    if n > 1:\n",
    "        result -= result // n\n",
    "    return result"
   ]
  },
  {
   "cell_type": "markdown",
   "metadata": {},
   "source": [
    "#### Find primitive roots of n"
   ]
  },
  {
   "cell_type": "code",
   "execution_count": null,
   "metadata": {},
   "outputs": [],
   "source": [
    "\"\"\"\n",
    "For positive integer n and given integer a that satisfies gcd(a, n) = 1,\n",
    "a is the primitive root of n, if a's order k for n satisfies k = ϕ(n).\n",
    "Primitive roots of certain number may or may not be exist.\n",
    "If so, return empty list.\n",
    "\"\"\"\n",
    "\n",
    "def find_primitive_root(n):\n",
    "    \"\"\" Returns all primitive roots of n. \"\"\"\n",
    "    if n == 1:\n",
    "        # Exception Handeling : 0 is the only primitive root of 1\n",
    "        return [0]\n",
    "    phi = euler_totient(n)\n",
    "    p_root_list = []\n",
    "    for i in range (1, n):\n",
    "        if math.gcd(i, n) != 1:\n",
    "            # To have order, a and n must be relative prime with each other.\n",
    "            continue\n",
    "        order = find_order(i, n)\n",
    "        if order == phi:\n",
    "            p_root_list.append(i)\n",
    "    return p_root_list"
   ]
  },
  {
   "cell_type": "markdown",
   "metadata": {},
   "source": [
    "#### Generate private keys"
   ]
  },
  {
   "cell_type": "code",
   "execution_count": null,
   "metadata": {},
   "outputs": [],
   "source": [
    "def alice_private_key(p):\n",
    "    \"\"\"Alice determine her private key\n",
    "    in the range of 1 ~ p-1.\n",
    "    This must be kept in secret\"\"\"\n",
    "    return randint(1, p-1)\n",
    "\n",
    "def bob_private_key(p):\n",
    "    \"\"\"Bob determine his private key\n",
    "    in the range of 1 ~ p-1.\n",
    "    This must be kept in secret\"\"\"\n",
    "    return randint(1, p-1)"
   ]
  },
  {
   "cell_type": "markdown",
   "metadata": {},
   "source": [
    "#### Generate public keys"
   ]
  },
  {
   "cell_type": "code",
   "execution_count": null,
   "metadata": {},
   "outputs": [],
   "source": [
    "def alice_public_key(a_pr_k, a, p):\n",
    "    \"\"\"Alice calculate her public key\n",
    "    with her private key.\n",
    "    This is open to public\"\"\"\n",
    "    return pow(a, a_pr_k) % p\n",
    "\n",
    "def bob_public_key(b_pr_k, a, p):\n",
    "    \"\"\"Bob calculate his public key\n",
    "    with his private key.\n",
    "    This is open to public\"\"\"\n",
    "    return pow(a, b_pr_k) % p"
   ]
  },
  {
   "cell_type": "markdown",
   "metadata": {},
   "source": [
    "#### Compute shared secret key"
   ]
  },
  {
   "cell_type": "code",
   "execution_count": null,
   "metadata": {},
   "outputs": [],
   "source": [
    "def alice_shared_key(b_pu_k, a_pr_k, p):\n",
    "    \"\"\" Alice calculate secret key shared with Bob,\n",
    "    with her private key and Bob's public key.\n",
    "    This must be kept in secret\"\"\"\n",
    "    return pow(b_pu_k, a_pr_k) % p\n",
    "\n",
    "\n",
    "def bob_shared_key(a_pu_k, b_pr_k, p):\n",
    "    \"\"\" Bob calculate secret key shared with Alice,\n",
    "    with his private key and Alice's public key.\n",
    "    This must be kept in secret\"\"\"\n",
    "    return pow(a_pu_k, b_pr_k) % p"
   ]
  },
  {
   "cell_type": "code",
   "execution_count": null,
   "metadata": {},
   "outputs": [],
   "source": [
    "\"\"\"\n",
    "Diffie-Hellman key exchange is the method that enables\n",
    "two entities (in here, Alice and Bob), not knowing each other,\n",
    "to share common secret key through not-encrypted communication network.\n",
    "This method use the property of one-way function (discrete logarithm)\n",
    "For example, given a, b and n, it is easy to calculate x\n",
    "that satisfies (a^b) ≡ x (mod n).\n",
    "However, it is very hard to calculate x that satisfies (a^x) ≡ b (mod n).\n",
    "For using this method, large prime number p and its primitive root a\n",
    "must be given.\n",
    "\"\"\"\n",
    "\n",
    "def diffie_hellman_key_exchange(a, p, option = None):\n",
    "    \"\"\" Perform diffie-helmman key exchange. \"\"\"\n",
    "    if option is not None:\n",
    "        # Print explanation of process when option parameter is given\n",
    "        option = 1\n",
    "    if prime_check(p) is False:\n",
    "        print(f\"{p} is not a prime number\")\n",
    "        # p must be large prime number\n",
    "        return False\n",
    "    try:\n",
    "        p_root_list = find_primitive_root(p)\n",
    "        p_root_list.index(a)\n",
    "    except ValueError:\n",
    "        print(f\"{a} is not a primitive root of {p}\")\n",
    "        # a must be primitive root of p\n",
    "        return False\n",
    "\n",
    "    a_pr_k = alice_private_key(p)\n",
    "    a_pu_k = alice_public_key(a_pr_k, a, p)\n",
    "\n",
    "    b_pr_k = bob_private_key(p)\n",
    "    b_pu_k = bob_public_key(b_pr_k, a, p)\n",
    "\n",
    "    if option == 1:\n",
    "        print(f\"Alice's private key: {a_pr_k}\")\n",
    "        print(f\"Alice's public key: {a_pu_k}\")\n",
    "        print(f\"Bob's private key: {b_pr_k}\")\n",
    "        print(f\"Bob's public key: {b_pu_k}\")\n",
    "\n",
    "    # In here, Alice send her public key to Bob, and Bob also send his public key to Alice.\n",
    "\n",
    "    a_sh_k = alice_shared_key(b_pu_k, a_pr_k, p)\n",
    "    b_sh_k = bob_shared_key(a_pu_k, b_pr_k, p)\n",
    "    print (f\"Shared key calculated by Alice = {a_sh_k}\")\n",
    "    print (f\"Shared key calculated by Bob = {b_sh_k}\")\n",
    "\n",
    "    return a_sh_k == b_sh_k"
   ]
  },
  {
   "cell_type": "markdown",
   "metadata": {},
   "source": [
    "## RSA encryption algorithm"
   ]
  },
  {
   "cell_type": "markdown",
   "metadata": {},
   "source": [
    "#### a method for encrypting a number that uses seperate encryption and decryption keys"
   ]
  },
  {
   "cell_type": "code",
   "execution_count": null,
   "metadata": {},
   "outputs": [],
   "source": [
    "\"\"\"\n",
    "This file only implements the key generation algorithm\n",
    "\n",
    "there are three important numbers in RSA called n, e, and d\n",
    "e is called the encryption exponent\n",
    "d is called the decryption exponent\n",
    "n is called the modulus\n",
    "\n",
    "these three numbers satisfy\n",
    "((x ** e) ** d) % n == x % n\n",
    "\n",
    "to use this system for encryption, n and e are made publicly available, and d is kept secret\n",
    "a number x can be encrypted by computing (x ** e) % n\n",
    "the original number can then be recovered by computing (E ** d) % n, where E is\n",
    "the encrypted number\n",
    "\n",
    "fortunately, python provides a three argument version of pow() that can compute powers modulo\n",
    "a number very quickly:\n",
    "(a ** b) % c == pow(a,b,c)\n",
    "\"\"\"\n",
    "\n",
    "# sample usage:\n",
    "# n,e,d = generate_key(16)\n",
    "# data = 20\n",
    "# encrypted = pow(data,e,n)\n",
    "# decrypted = pow(encrypted,d,n)\n",
    "# assert decrypted == data"
   ]
  },
  {
   "cell_type": "code",
   "execution_count": null,
   "metadata": {},
   "outputs": [],
   "source": [
    "# import random"
   ]
  },
  {
   "cell_type": "code",
   "execution_count": null,
   "metadata": {},
   "outputs": [],
   "source": [
    "def generate_key(k, seed=None):\n",
    "    \"\"\"\n",
    "    the RSA key generating algorithm\n",
    "    k is the number of bits in n\n",
    "    \"\"\"\n",
    "\n",
    "    def modinv(a, m):\n",
    "        \"\"\"calculate the inverse of a mod m\n",
    "        that is, find b such that (a * b) % m == 1\"\"\"\n",
    "        b = 1\n",
    "        while not (a * b) % m == 1:\n",
    "            b += 1\n",
    "        return b\n",
    "\n",
    "    def gen_prime(k, seed=None):\n",
    "        \"\"\"generate a prime with k bits\"\"\"\n",
    "\n",
    "        def is_prime(num):\n",
    "            if num == 2:\n",
    "                return True\n",
    "            for i in range(2, int(num ** 0.5) + 1):\n",
    "                if num % i == 0:\n",
    "                    return False\n",
    "            return True\n",
    "\n",
    "        random.seed(seed)\n",
    "        while True:\n",
    "            key = random.randrange(int(2 ** (k - 1)), int(2 ** k))\n",
    "            if is_prime(key):\n",
    "                return key\n",
    "\n",
    "    # size in bits of p and q need to add up to the size of n\n",
    "    p_size = k / 2\n",
    "    q_size = k - p_size\n",
    "\n",
    "    e = gen_prime(k, seed)  # in many cases, e is also chosen to be a small constant\n",
    "\n",
    "    while True:\n",
    "        p = gen_prime(p_size, seed)\n",
    "        if p % e != 1:\n",
    "            break\n",
    "\n",
    "    while True:\n",
    "        q = gen_prime(q_size, seed)\n",
    "        if q % e != 1:\n",
    "            break\n",
    "\n",
    "    n = p * q\n",
    "    l = (p - 1) * (q - 1)  # calculate totient function\n",
    "    d = modinv(e, l)\n",
    "\n",
    "    return int(n), int(e), int(d)\n",
    "\n",
    "\n",
    "def encrypt(data, e, n):\n",
    "    return pow(int(data), int(e), int(n))\n",
    "\n",
    "\n",
    "def decrypt(data, d, n):\n",
    "    return pow(int(data), int(d), int(n))\n"
   ]
  },
  {
   "cell_type": "markdown",
   "metadata": {},
   "source": [
    "## Rabin's power algorithm"
   ]
  },
  {
   "cell_type": "markdown",
   "metadata": {},
   "source": [
    "#### Rabin-Miller primality test, returning False implies that n is guaranteed composite, returning True means that n is probably prime with a 4 ** -k chance of being wrong"
   ]
  },
  {
   "cell_type": "code",
   "execution_count": null,
   "metadata": {},
   "outputs": [],
   "source": [
    "# import random"
   ]
  },
  {
   "cell_type": "code",
   "execution_count": null,
   "metadata": {},
   "outputs": [],
   "source": [
    "def is_prime(n, k):\n",
    "\n",
    "    def pow2_factor(num):\n",
    "        \"\"\"factor n into a power of 2 times an odd number\"\"\"\n",
    "        power = 0\n",
    "        while num % 2 == 0:\n",
    "            num /= 2\n",
    "            power += 1\n",
    "        return power, num\n",
    "\n",
    "    def valid_witness(a):\n",
    "        \"\"\"\n",
    "        returns true if a is a valid 'witness' for n\n",
    "        a valid witness increases chances of n being prime\n",
    "        an invalid witness guarantees n is composite\n",
    "        \"\"\"\n",
    "        x = pow(int(a), int(d), int(n))\n",
    "\n",
    "        if x == 1 or x == n - 1:\n",
    "            return False\n",
    "\n",
    "        for _ in range(r - 1):\n",
    "            x = pow(int(x), int(2), int(n))\n",
    "\n",
    "            if x == 1:\n",
    "                return True\n",
    "            if x == n - 1:\n",
    "                return False\n",
    "\n",
    "        return True\n",
    "\n",
    "    # precondition n >= 5\n",
    "    if n < 5:\n",
    "        return n == 2 or n == 3  # True for prime\n",
    "\n",
    "    r, d = pow2_factor(n - 1)\n",
    "\n",
    "    for _ in range(k):\n",
    "        if valid_witness(random.randrange(2, n - 2)):\n",
    "            return False\n",
    "\n",
    "    return True"
   ]
  },
  {
   "cell_type": "markdown",
   "metadata": {},
   "source": [
    "## Collatz conjecture"
   ]
  },
  {
   "cell_type": "code",
   "execution_count": null,
   "metadata": {},
   "outputs": [],
   "source": [
    "\"\"\"\n",
    "Implementation of hailstone function which generates a sequence for some n by following these rules:\n",
    "* n == 1    : done\n",
    "* n is even : the next n = n/2\n",
    "* n is odd  : the next n = 3n + 1\n",
    "\"\"\""
   ]
  },
  {
   "cell_type": "code",
   "execution_count": null,
   "metadata": {},
   "outputs": [],
   "source": [
    "def hailstone(n):\n",
    "    \"\"\"\n",
    "    Return the 'hailstone sequence' from n to 1\n",
    "    n: The starting point of the hailstone sequence\n",
    "    \"\"\"\n",
    "\n",
    "    sequence = [n]\n",
    "    while n > 1:\n",
    "        if n%2 != 0:\n",
    "            n = 3*n + 1\n",
    "        else:\n",
    "            n = int(n/2)\n",
    "        sequence.append(n)\n",
    "    return sequence"
   ]
  },
  {
   "cell_type": "markdown",
   "metadata": {},
   "source": [
    "## Group theory concepts"
   ]
  },
  {
   "cell_type": "code",
   "execution_count": null,
   "metadata": {},
   "outputs": [],
   "source": [
    "\"\"\"\n",
    "The significance of the cycle index (polynomial) of symmetry group\n",
    "is deeply rooted in counting the number of configurations\n",
    "of an object excluding those that are symmetric (in terms of permutations).\n",
    "\n",
    "For example, the following problem can be solved as a direct\n",
    "application of the cycle index polynomial of the symmetry\n",
    "group.\n",
    "\n",
    "Note: I came across this problem as a Google's foo.bar challenge at Level 5\n",
    "and solved it using a purely Group Theoretic approach. :)\n",
    "-----\n",
    "\n",
    "Problem:\n",
    "\n",
    "Given positive integers\n",
    "w, h, and s,\n",
    "compute the number of distinct 2D\n",
    "grids of dimensions w x h that contain\n",
    "entries from {0, 1, ..., s-1}.\n",
    "Note that two grids are defined\n",
    "to be equivalent if one can be\n",
    "obtained from the other by\n",
    "switching rows and columns\n",
    "some number of times.\n",
    "\n",
    "-----\n",
    "\n",
    "Approach:\n",
    "\n",
    "Compute the cycle index (polynomials)\n",
    "of S_w, and S_h, i.e. the Symmetry\n",
    "group on w and h symbols respectively.\n",
    "\n",
    "Compute the product of the two\n",
    "cycle indices while combining two\n",
    "monomials in such a way that\n",
    "for any pair of cycles c1, and c2\n",
    "in the elements of S_w X S_h,\n",
    "the resultant monomial contains\n",
    "terms of the form:\n",
    "$$ x_{lcm(|c1|, |c2|)}^{gcd(|c1|, |c2|)} $$\n",
    "\n",
    "Return the specialization of\n",
    "the product of cycle indices\n",
    "at x_i = s (for all the valid i).\n",
    "\n",
    "-----\n",
    "\n",
    "Code below:\n",
    "\n",
    "def solve(w, h, s):\n",
    "    s1 = get_cycle_index_sym(w)\n",
    "    s2 = get_cycle_index_sym(h)\n",
    "\n",
    "    result = cycle_product_for_two_polynomials(s1, s2, s)\n",
    "\n",
    "    return str(result)\n",
    "\"\"\""
   ]
  },
  {
   "cell_type": "code",
   "execution_count": null,
   "metadata": {},
   "outputs": [],
   "source": [
    "# from fractions import Fraction\n",
    "# from typing import Dict, Union\n",
    "# from polynomial import ( Monomial, Polynomial )\n",
    "# from gcd import lcm"
   ]
  },
  {
   "cell_type": "markdown",
   "metadata": {},
   "source": [
    "#### Compute the product of two monomials"
   ]
  },
  {
   "cell_type": "code",
   "execution_count": null,
   "metadata": {},
   "outputs": [],
   "source": [
    "def cycle_product(m1: Monomial, m2: Monomial) -> Monomial:\n",
    "    \"\"\"\n",
    "    Given two monomials (from the\n",
    "    cycle index of a symmetry group),\n",
    "    compute the resultant monomial\n",
    "    in the cartesian product\n",
    "    corresponding to their merging.\n",
    "    \"\"\"\n",
    "    assert isinstance(m1, Monomial) and isinstance(m2, Monomial)\n",
    "    A = m1.variables\n",
    "    B = m2.variables\n",
    "    result_variables = dict()\n",
    "    for i in A:\n",
    "        for j in B:\n",
    "            k = lcm(i, j)\n",
    "            g = (i * j) // k\n",
    "            if k in result_variables:\n",
    "                result_variables[k] += A[i] * B[j] * g\n",
    "            else:\n",
    "                result_variables[k] = A[i] * B[j] * g\n",
    "\n",
    "    return Monomial(result_variables, Fraction(m1.coeff * m2.coeff, 1))"
   ]
  },
  {
   "cell_type": "markdown",
   "metadata": {},
   "source": [
    "#### Compute the product of two cycle index polynomials"
   ]
  },
  {
   "cell_type": "code",
   "execution_count": null,
   "metadata": {},
   "outputs": [],
   "source": [
    "def cycle_product_for_two_polynomials(p1: Polynomial, p2: Polynomial, q: Union[float, int, Fraction]) -> Union[float, int, Fraction]:\n",
    "    \"\"\"\n",
    "    Compute the product of\n",
    "    given cycle indices p1,\n",
    "    and p2 and evaluate it at q.\n",
    "    \"\"\"\n",
    "    ans = Fraction(0, 1)\n",
    "    for m1 in p1.monomials:\n",
    "        for m2 in p2.monomials:\n",
    "            ans += cycle_product(m1, m2).substitute(q)\n",
    "\n",
    "    return ans"
   ]
  },
  {
   "cell_type": "markdown",
   "metadata": {},
   "source": [
    "#### Recursively compute the cycle index of the symmetric group S_n\n",
    "\n",
    "\n"
   ]
  },
  {
   "cell_type": "code",
   "execution_count": null,
   "metadata": {},
   "outputs": [],
   "source": [
    "def cycle_index_sym_helper(n: int, memo: Dict[int, Polynomial]) -> Polynomial:\n",
    "    \"\"\"\n",
    "    A helper for the dp-style evaluation\n",
    "    of the cycle index.\n",
    "\n",
    "    The recurrence is given in:\n",
    "    https://en.wikipedia.org/wiki/Cycle_index#Symmetric_group_Sn\n",
    "\n",
    "    \"\"\"\n",
    "    if n in memo:\n",
    "        return memo[n]\n",
    "    ans = Polynomial([Monomial({}, Fraction(0, 1))])\n",
    "    for t in range(1, n+1):\n",
    "        ans = ans.__add__(Polynomial([Monomial({t: 1}, Fraction(1, 1))]) * cycle_index_sym_helper(n-t, memo))\n",
    "    ans *= Fraction(1, n)\n",
    "    memo[n] = ans\n",
    "    return memo[n]"
   ]
  },
  {
   "cell_type": "markdown",
   "metadata": {},
   "source": [
    "####  Compute the cycle index of the symmetric group S_n\n"
   ]
  },
  {
   "cell_type": "code",
   "execution_count": null,
   "metadata": {},
   "outputs": [],
   "source": [
    "def get_cycle_index_sym(n: int) -> Polynomial:\n",
    "    \"\"\"\n",
    "    Compute the cycle index\n",
    "    of S_n, i.e. the symmetry\n",
    "    group of n symbols.\n",
    "\n",
    "    \"\"\"\n",
    "    if n < 0:\n",
    "        raise ValueError('n should be a non-negative integer.')\n",
    "\n",
    "    memo = {\n",
    "        0: Polynomial([\n",
    "            Monomial({}, Fraction(1, 1))\n",
    "        ]),\n",
    "        1: Polynomial([\n",
    "            Monomial({1: 1}, Fraction(1, 1))\n",
    "        ]),\n",
    "        2: Polynomial([\n",
    "            Monomial({1: 2}, Fraction(1, 2)),\n",
    "            Monomial({2: 1}, Fraction(1, 2))\n",
    "        ]),\n",
    "        3: Polynomial([\n",
    "            Monomial({1: 3}, Fraction(1, 6)),\n",
    "            Monomial({1: 1, 2: 1}, Fraction(1, 2)),\n",
    "            Monomial({3: 1}, Fraction(1, 3))\n",
    "        ]),\n",
    "        4: Polynomial([\n",
    "            Monomial({1: 4}, Fraction(1, 24)),\n",
    "            Monomial({2: 1, 1: 2}, Fraction(1, 4)),\n",
    "            Monomial({3: 1, 1: 1}, Fraction(1, 3)),\n",
    "            Monomial({2: 2}, Fraction(1, 8)),\n",
    "            Monomial({4: 1}, Fraction(1, 4)),\n",
    "        ])\n",
    "    }\n",
    "    result = cycle_index_sym_helper(n, memo)\n",
    "    return result"
   ]
  },
  {
   "cell_type": "markdown",
   "metadata": {},
   "source": [
    "#### Main function to solve the grid configuration problem"
   ]
  },
  {
   "cell_type": "code",
   "execution_count": null,
   "metadata": {},
   "outputs": [],
   "source": [
    "'''\n",
    "def solve(w, h, s):\n",
    "    s1 = get_cycle_index_sym(w)  # Cycle index of S_w\n",
    "    s2 = get_cycle_index_sym(h)  # Cycle index of S_h\n",
    "    \n",
    "    result = cycle_product_for_two_polynomials(s1, s2, s)  # Compute product of cycle indices and evaluate\n",
    "    \n",
    "    return str(result)\n",
    "'''\n"
   ]
  }
 ],
 "metadata": {
  "kernelspec": {
   "display_name": "Python 3",
   "language": "python",
   "name": "python3"
  },
  "language_info": {
   "name": "python",
   "version": "3.12.4"
  }
 },
 "nbformat": 4,
 "nbformat_minor": 2
}
