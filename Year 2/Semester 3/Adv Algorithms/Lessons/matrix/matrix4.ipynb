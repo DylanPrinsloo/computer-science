{
 "cells": [
  {
   "cell_type": "code",
   "execution_count": null,
   "metadata": {},
   "outputs": [],
   "source": [
    "# init\n",
    "import unittest"
   ]
  },
  {
   "cell_type": "markdown",
   "metadata": {},
   "source": [
    "# Matrix Applications"
   ]
  },
  {
   "cell_type": "markdown",
   "metadata": {},
   "source": [
    "## Bomb enemy \n",
    "This could be some form of game theory or optimization"
   ]
  },
  {
   "cell_type": "code",
   "execution_count": null,
   "metadata": {},
   "outputs": [],
   "source": [
    "\"\"\"\n",
    "Given a 2D grid, each cell is either a wall 'W',\n",
    "an enemy 'E' or empty '0' (the number zero),\n",
    "return the maximum enemies you can kill using one bomb.\n",
    "The bomb kills all the enemies in the same row and column from\n",
    "the planted point until it hits the wall since the wall is too strong\n",
    "to be destroyed.\n",
    "Note that you can only put the bomb at an empty cell.\n",
    "\n",
    "Example:\n",
    "For the given grid\n",
    "\n",
    "0 E 0 0\n",
    "E 0 W E\n",
    "0 E 0 0\n",
    "\n",
    "return 3. (Placing a bomb at (1,1) kills 3 enemies)\n",
    "\"\"\""
   ]
  },
  {
   "cell_type": "code",
   "execution_count": null,
   "metadata": {},
   "outputs": [],
   "source": [
    "def max_killed_enemies(grid):\n",
    "    if not grid:\n",
    "        return 0\n",
    "    m, n = len(grid), len(grid[0])\n",
    "    max_killed = 0\n",
    "    row_e, col_e = 0, [0] * n\n",
    "    # iterates over all cells in the grid\n",
    "    for i in range(m):\n",
    "        for j in range(n):\n",
    "            # makes sure we are next to a wall.\n",
    "            if j == 0 or grid[i][j-1] == 'W':\n",
    "                row_e = row_kills(grid, i, j)\n",
    "            # makes sure we are next to a wall.\n",
    "            if i == 0 or grid[i-1][j] == 'W':\n",
    "                col_e[j] = col_kills(grid, i, j)\n",
    "            # makes sure the cell contains a 0\n",
    "            if grid[i][j] == '0':\n",
    "                # updates the variable\n",
    "                max_killed = max(max_killed, row_e + col_e[j])\n",
    "\n",
    "    return max_killed\n",
    "\n",
    "\n",
    "# calculate killed enemies for row i from column j\n",
    "def row_kills(grid, i, j):\n",
    "    num = 0\n",
    "    len_row = len(grid[0])\n",
    "    while j < len_row and grid[i][j] != 'W':\n",
    "        if grid[i][j] == 'E':\n",
    "            num += 1\n",
    "        j += 1\n",
    "    return num\n",
    "\n",
    "\n",
    "# calculate killed enemies for  column j from row i\n",
    "def col_kills(grid, i, j):\n",
    "    num = 0\n",
    "    len_col = len(grid)\n",
    "    while i < len_col and grid[i][j] != 'W':\n",
    "        if grid[i][j] == 'E':\n",
    "            num += 1\n",
    "        i += 1\n",
    "    return num"
   ]
  },
  {
   "cell_type": "code",
   "execution_count": null,
   "metadata": {},
   "outputs": [],
   "source": [
    "# import unittest"
   ]
  },
  {
   "cell_type": "code",
   "execution_count": null,
   "metadata": {},
   "outputs": [],
   "source": [
    "# ----------------- TESTS -------------------------\n",
    "\n",
    "\"\"\"\n",
    "Testsuite for the project\n",
    "\"\"\"\n",
    "\n",
    "class TestBombEnemy(unittest.TestCase):\n",
    "    def test_3x4(self):\n",
    "        grid1 = [[\"0\", \"E\", \"0\", \"0\"],\n",
    "                 [\"E\", \"0\", \"W\", \"E\"],\n",
    "                 [\"0\", \"E\", \"0\", \"0\"]]\n",
    "        self.assertEqual(3, max_killed_enemies(grid1))\n",
    "\n",
    "    def test_4x4(self):\n",
    "        grid1 = [\n",
    "                [\"0\", \"E\", \"0\", \"E\"],\n",
    "                [\"E\", \"E\", \"E\", \"0\"],\n",
    "                [\"E\", \"0\", \"W\", \"E\"],\n",
    "                [\"0\", \"E\", \"0\", \"0\"]]\n",
    "        grid2 = [\n",
    "                [\"0\", \"0\", \"0\", \"E\"],\n",
    "                [\"E\", \"0\", \"0\", \"0\"],\n",
    "                [\"E\", \"0\", \"W\", \"E\"],\n",
    "                [\"0\", \"E\", \"0\", \"0\"]]\n",
    "        self.assertEqual(5, max_killed_enemies(grid1))\n",
    "        self.assertEqual(3, max_killed_enemies(grid2))\n",
    "\n",
    "\n",
    "if __name__ == \"__main__\":\n",
    "    unittest.main()"
   ]
  },
  {
   "cell_type": "markdown",
   "metadata": {},
   "source": [
    "## Count paths"
   ]
  },
  {
   "cell_type": "code",
   "execution_count": null,
   "metadata": {},
   "outputs": [],
   "source": [
    "#\n",
    "# Count the number of unique paths from a[0][0] to a[m-1][n-1]\n",
    "# We are allowed to move either right or down from a cell in the matrix.\n",
    "# Approaches-\n",
    "# (i) Recursion- Recurse starting from a[m-1][n-1], upwards and leftwards,\n",
    "#                add the path count of both recursions and return count.\n",
    "# (ii) Dynamic Programming- Start from a[0][0].Store the count in a count\n",
    "#                           matrix. Return count[m-1][n-1]\n",
    "# T(n)- O(mn), S(n)- O(mn)\n",
    "#\n"
   ]
  },
  {
   "cell_type": "code",
   "execution_count": null,
   "metadata": {},
   "outputs": [],
   "source": [
    "def count_paths(m, n):\n",
    "    if m < 1 or n < 1:\n",
    "        return -1\n",
    "    count = [[None for j in range(n)] for i in range(m)]\n",
    "\n",
    "    # Taking care of the edge cases- matrix of size 1xn or mx1\n",
    "    for i in range(n):\n",
    "        count[0][i] = 1\n",
    "    for j in range(m):\n",
    "        count[j][0] = 1\n",
    "\n",
    "    for i in range(1, m):\n",
    "        for j in range(1, n):\n",
    "            # Number of ways to reach a[i][j] = number of ways to reach\n",
    "            #                                   a[i-1][j] + a[i][j-1]\n",
    "            count[i][j] = count[i - 1][j] + count[i][j - 1]\n",
    "\n",
    "    print(count[m - 1][n - 1])\n",
    "\n",
    "\n",
    "def main():\n",
    "    m, n = map(int, input('Enter two positive integers: ').split())\n",
    "    count_paths(m, n)\n",
    "\n",
    "\n",
    "if __name__ == '__main__':\n",
    "    main()\n"
   ]
  },
  {
   "cell_type": "markdown",
   "metadata": {},
   "source": [
    "## Algorithm for searching efficiently within sorted matrices"
   ]
  },
  {
   "cell_type": "code",
   "execution_count": null,
   "metadata": {},
   "outputs": [],
   "source": [
    "# Search a key in a row wise and column wise sorted (non-decreasing) matrix.\n",
    "# m- Number of rows in the matrix\n",
    "# n- Number of columns in the matrix\n",
    "# T(n)- O(m+n)"
   ]
  },
  {
   "cell_type": "code",
   "execution_count": null,
   "metadata": {},
   "outputs": [],
   "source": [
    "def search_in_a_sorted_matrix(mat, m, n, key):\n",
    "    i, j = m-1, 0\n",
    "    while i >= 0 and j < n:\n",
    "        if key == mat[i][j]:\n",
    "            print('Key %s found at row- %s column- %s' % (key, i+1, j+1))\n",
    "            return\n",
    "        if key < mat[i][j]:\n",
    "            i -= 1\n",
    "        else:\n",
    "            j += 1\n",
    "    print('Key %s not found' % (key))\n",
    "\n",
    "\n",
    "def main():\n",
    "    mat = [\n",
    "           [2, 5, 7],\n",
    "           [4, 8, 13],\n",
    "           [9, 11, 15],\n",
    "           [12, 17, 20]\n",
    "          ]\n",
    "    key = 13\n",
    "    print(mat)\n",
    "    search_in_a_sorted_matrix(mat, len(mat), len(mat[0]), key)\n",
    "\n",
    "\n",
    "if __name__ == '__main__':\n",
    "    main()\n"
   ]
  }
 ],
 "metadata": {
  "kernelspec": {
   "display_name": "Python 3",
   "language": "python",
   "name": "python3"
  },
  "language_info": {
   "name": "python",
   "version": "3.12.4"
  }
 },
 "nbformat": 4,
 "nbformat_minor": 2
}
