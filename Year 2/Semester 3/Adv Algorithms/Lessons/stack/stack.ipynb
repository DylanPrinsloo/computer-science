{
 "cells": [
  {
   "cell_type": "markdown",
   "metadata": {},
   "source": [
    "# **Stack**\n",
    "is a linear data structure that follows the Last-In-First-Out (LIFO) principle. Items are added and removed from the top.\n",
    "   - **Applications:** Expression evaluation, backtracking algorithms, depth-first search."
   ]
  },
  {
   "cell_type": "code",
   "execution_count": null,
   "metadata": {},
   "outputs": [],
   "source": [
    "# init\n",
    "from .stack import *\n",
    "from .is_consecutive import *\n",
    "from .is_sorted import *\n",
    "from .remove_min import *\n",
    "from .stutter import *\n",
    "from .switch_pairs import *\n",
    "from .valid_parenthesis import *\n",
    "from .simplify_path import *\n",
    "from .stack import *\n",
    "from .ordered_stack import *\n",
    "import collections"
   ]
  },
  {
   "cell_type": "markdown",
   "metadata": {},
   "source": [
    "## Is Consecitive"
   ]
  },
  {
   "cell_type": "markdown",
   "metadata": {},
   "source": [
    "#### Given a stack, a function is_consecutive takes a stack as a parameter and that returns whether or not the stack contains a sequence of consecutive integers starting from the bottom of the stack (returning true if it does, returning false if it does not)."
   ]
  },
  {
   "cell_type": "code",
   "execution_count": null,
   "metadata": {},
   "outputs": [],
   "source": [
    "\"\"\"\n",
    "For example:\n",
    "bottom [3, 4, 5, 6, 7] top\n",
    "Then the call of is_consecutive(s) should return true.\n",
    "bottom [3, 4, 6, 7] top\n",
    "Then the call of is_consecutive(s) should return false.\n",
    "bottom [3, 2, 1] top\n",
    "The function should return false due to reverse order.\n",
    "\n",
    "Note: There are 2 solutions:\n",
    "first_is_consecutive: it uses a single stack as auxiliary storage\n",
    "second_is_consecutive: it uses a single queue as auxiliary storage\n",
    "\"\"\""
   ]
  },
  {
   "cell_type": "code",
   "execution_count": null,
   "metadata": {},
   "outputs": [],
   "source": [
    "def first_is_consecutive(stack):\n",
    "    storage_stack = []\n",
    "    for i in range(len(stack)):\n",
    "        first_value = stack.pop()\n",
    "        if len(stack) == 0:  # Case odd number of values in stack\n",
    "            return True\n",
    "        second_value = stack.pop()\n",
    "        if first_value - second_value != 1:  # Not consecutive\n",
    "            return False\n",
    "        stack.append(second_value)          # Backup second value\n",
    "        storage_stack.append(first_value)\n",
    "\n",
    "    # Back up stack from storage stack\n",
    "    for i in range(len(storage_stack)):\n",
    "        stack.append(storage_stack.pop())\n",
    "    return True\n",
    "\n",
    "\n",
    "def second_is_consecutive(stack):\n",
    "    q = collections.deque()\n",
    "    for i in range(len(stack)):\n",
    "        first_value = stack.pop()\n",
    "        if len(stack) == 0:  # Case odd number of values in stack\n",
    "            return True\n",
    "        second_value = stack.pop()\n",
    "        if first_value - second_value != 1:  # Not consecutive\n",
    "            return False\n",
    "        stack.append(second_value)          # Backup second value\n",
    "        q.append(first_value)\n",
    "\n",
    "    # Back up stack from queue\n",
    "    for i in range(len(q)):\n",
    "        stack.append(q.pop())\n",
    "    for i in range(len(stack)):\n",
    "        q.append(stack.pop())\n",
    "    for i in range(len(q)):\n",
    "        stack.append(q.pop())\n",
    "\n",
    "    return True"
   ]
  },
  {
   "cell_type": "markdown",
   "metadata": {},
   "source": [
    "## Is Sorted"
   ]
  },
  {
   "cell_type": "markdown",
   "metadata": {},
   "source": [
    "#### Given a stack, a function is_sorted accepts a stack as a parameter and returns true if the elements in the stack occur in ascending increasing order from bottom, and false otherwise. That is, the smallest element should be at bottom"
   ]
  },
  {
   "cell_type": "code",
   "execution_count": null,
   "metadata": {},
   "outputs": [],
   "source": [
    "\"\"\"\n",
    "For example:\n",
    "bottom [6, 3, 5, 1, 2, 4] top\n",
    "The function should return false\n",
    "bottom [1, 2, 3, 4, 5, 6] top\n",
    "The function should return true\n",
    "\"\"\""
   ]
  },
  {
   "cell_type": "code",
   "execution_count": null,
   "metadata": {},
   "outputs": [],
   "source": [
    "def is_sorted(stack):\n",
    "    storage_stack = []\n",
    "    for i in range(len(stack)):\n",
    "        if len(stack) == 0:\n",
    "            break\n",
    "        first_val = stack.pop()\n",
    "        if len(stack) == 0:\n",
    "            break\n",
    "        second_val = stack.pop()\n",
    "        if first_val < second_val:\n",
    "            return False\n",
    "        storage_stack.append(first_val)\n",
    "        stack.append(second_val)\n",
    "\n",
    "    # Backup stack\n",
    "    for i in range(len(storage_stack)):\n",
    "        stack.append(storage_stack.pop())\n",
    "\n",
    "    return True"
   ]
  },
  {
   "cell_type": "markdown",
   "metadata": {},
   "source": [
    "## Longest abs path\n",
    "#### Calculate the length of the longest path in a file system represented as a string."
   ]
  },
  {
   "cell_type": "code",
   "execution_count": null,
   "metadata": {},
   "outputs": [],
   "source": [
    "# def lengthLongestPath(input):\n",
    "#     maxlen = 0\n",
    "#     pathlen = {0: 0}\n",
    "#     for line in input.splitlines():\n",
    "#         print(\"---------------\")\n",
    "#         print(\"line:\", line)\n",
    "#         name = line.strip('\\t')\n",
    "#         print(\"name:\", name)\n",
    "#         depth = len(line) - len(name)\n",
    "#         print(\"depth:\", depth)\n",
    "#         if '.' in name:\n",
    "#             maxlen = max(maxlen, pathlen[depth] + len(name))\n",
    "#         else:\n",
    "#             pathlen[depth + 1] = pathlen[depth] + len(name) + 1\n",
    "#         print(\"maxlen:\", maxlen)\n",
    "#     return maxlen\n",
    "\n",
    "# def lengthLongestPath(input):\n",
    "#     paths = input.split(\"\\n\")\n",
    "#     level = [0] * 10\n",
    "#     maxLength = 0\n",
    "#     for path in paths:\n",
    "#         print(\"-------------\")\n",
    "#         levelIdx = path.rfind(\"\\t\")\n",
    "#         print(\"Path: \", path)\n",
    "#         print(\"path.rfind(\\\\t)\", path.rfind(\"\\t\"))\n",
    "#         print(\"levelIdx: \", levelIdx)\n",
    "#         print(\"level: \", level)\n",
    "#         level[levelIdx + 1] = level[levelIdx] + len(path) - levelIdx + 1\n",
    "#         print(\"level: \", level)\n",
    "#         if \".\" in path:\n",
    "#             maxLength = max(maxLength, level[levelIdx+1] - 1)\n",
    "#             print(\"maxlen: \", maxLength)\n",
    "#     return maxLength\n"
   ]
  },
  {
   "cell_type": "code",
   "execution_count": null,
   "metadata": {},
   "outputs": [],
   "source": [
    "def length_longest_path(input):\n",
    "    \"\"\"\n",
    "    :type input: str\n",
    "    :rtype: int\n",
    "    \"\"\"\n",
    "    curr_len, max_len = 0, 0  # running length and max length\n",
    "    stack = []  # keep track of the name length for directories and files\n",
    "\n",
    "    for s in input.split('\\n'):  # split input by lines to get paths\n",
    "        print(\"---------\")\n",
    "        print(\"<path>:\", s)\n",
    "\n",
    "        # Count the depth of the current path by counting tab characters\n",
    "        depth = s.count('\\t')  \n",
    "        print(\"depth: \", depth)\n",
    "        print(\"stack: \", stack)\n",
    "        print(\"curlen: \", curr_len)\n",
    "\n",
    "        # Adjust the current length by popping the stack if we've moved up in the directory tree\n",
    "        while len(stack) > depth:\n",
    "            curr_len -= stack.pop()\n",
    "\n",
    "        # Add the current path length to the stack (stripping the tab characters) and increase the current length\n",
    "        stack.append(len(s.strip('\\t')) + 1)  # 1 is added to account for the '/' separator\n",
    "        curr_len += stack[-1]  # Increase current length\n",
    "        print(\"stack: \", stack)\n",
    "        print(\"curlen: \", curr_len)\n",
    "\n",
    "        # If the current path contains a file (identified by '.'), check if it's the longest path\n",
    "        if '.' in s:  # Update max_len only when it's a file\n",
    "            max_len = max(max_len, curr_len - 1)  # -1 is to remove the last '/' for files\n",
    "    return max_len\n",
    "\n",
    "\n",
    "# Sample test cases to find the longest path\n",
    "st = \"dir\\n\\tsubdir1\\n\\t\\tfile1.ext\\n\\t\\tsubsubdirectory1\\n\\tsubdir2\\n\\t\\tsubsubdir2\\n\\t\\t\\tfile2.ext\"\n",
    "st2 = \"a\\n\\tb1\\n\\t\\tf1.txt\\n\\taaaaa\\n\\t\\tf2.txt\"\n",
    "print(\"path:\", st2)\n",
    "\n",
    "# Calling the function and printing the result for the second example\n",
    "print(\"answer:\", length_longest_path(st2))\n"
   ]
  },
  {
   "cell_type": "markdown",
   "metadata": {},
   "source": [
    "## Ordered Stack"
   ]
  },
  {
   "cell_type": "markdown",
   "metadata": {},
   "source": [
    "#### The stack remains always ordered such that the highest value is at the top and the lowest at the bottom"
   ]
  },
  {
   "cell_type": "code",
   "execution_count": null,
   "metadata": {},
   "outputs": [],
   "source": [
    "class OrderedStack:\n",
    "    def __init__(self):\n",
    "        self.items = []\n",
    "\n",
    "    def is_empty(self):\n",
    "        return self.items == []\n",
    "\n",
    "    def push_t(self, item):\n",
    "        self.items.append(item)\n",
    "\n",
    "    # push method to maintain order when pushing new elements\n",
    "    def push(self, item):\n",
    "        temp_stack = OrderedStack()\n",
    "        if self.is_empty() or item > self.peek():\n",
    "            self.push_t(item)\n",
    "        else:\n",
    "            while item < self.peek() and not self.is_empty():\n",
    "                temp_stack.push_t(self.pop())\n",
    "            self.push_t(item)\n",
    "            while not temp_stack.is_empty():\n",
    "                self.push_t(temp_stack.pop())\n",
    "\n",
    "    def pop(self):\n",
    "        if self.is_empty():\n",
    "            raise IndexError(\"Stack is empty\")\n",
    "        return self.items.pop()\n",
    "\n",
    "    def peek(self):\n",
    "        return self.items[len(self.items) - 1]\n",
    "\n",
    "    def size(self):\n",
    "        return len(self.items)"
   ]
  }
 ],
 "metadata": {
  "kernelspec": {
   "display_name": "Python 3",
   "language": "python",
   "name": "python3"
  },
  "language_info": {
   "name": "python",
   "version": "3.12.4"
  }
 },
 "nbformat": 4,
 "nbformat_minor": 2
}
