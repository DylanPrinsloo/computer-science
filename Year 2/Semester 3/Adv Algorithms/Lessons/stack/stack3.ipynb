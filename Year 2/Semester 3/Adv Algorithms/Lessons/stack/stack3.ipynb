{
 "cells": [
  {
   "cell_type": "code",
   "execution_count": null,
   "metadata": {},
   "outputs": [],
   "source": [
    "# init\n",
    "from .stack import *\n",
    "from .is_consecutive import *\n",
    "from .is_sorted import *\n",
    "from .remove_min import *\n",
    "from .stutter import *\n",
    "from .switch_pairs import *\n",
    "from .valid_parenthesis import *\n",
    "from .simplify_path import *\n",
    "from .stack import *\n",
    "from .ordered_stack import *\n",
    "import collections"
   ]
  },
  {
   "cell_type": "markdown",
   "metadata": {},
   "source": [
    "## Slutter"
   ]
  },
  {
   "cell_type": "markdown",
   "metadata": {},
   "source": [
    "#### Given a stack, stutter takes a stack as a parameter and  replaces every value in the stack with two occurrences of that value."
   ]
  },
  {
   "cell_type": "code",
   "execution_count": null,
   "metadata": {},
   "outputs": [],
   "source": [
    "\"\"\"\n",
    "For example, suppose the stack stores these values:\n",
    "bottom [3, 7, 1, 14, 9] top\n",
    "Then the stack should store these values after the method terminates:\n",
    "bottom [3, 3, 7, 7, 1, 1, 14, 14, 9, 9] top\n",
    "\n",
    "Note: There are 2 solutions:\n",
    "first_stutter: it uses a single stack as auxiliary storage\n",
    "second_stutter: it uses a single queue as auxiliary storage\n",
    "\"\"\""
   ]
  },
  {
   "cell_type": "code",
   "execution_count": null,
   "metadata": {},
   "outputs": [],
   "source": [
    "def first_stutter(stack):\n",
    "    storage_stack = []\n",
    "    for i in range(len(stack)):\n",
    "        storage_stack.append(stack.pop())\n",
    "    for i in range(len(storage_stack)):\n",
    "        val = storage_stack.pop()\n",
    "        stack.append(val)\n",
    "        stack.append(val)\n",
    "\n",
    "    return stack\n",
    "\n",
    "\n",
    "def second_stutter(stack):\n",
    "    q = collections.deque()\n",
    "    # Put all values into queue from stack\n",
    "    for i in range(len(stack)):\n",
    "        q.append(stack.pop())\n",
    "    # Put values back into stack from queue\n",
    "    for i in range(len(q)):\n",
    "        stack.append(q.pop())\n",
    "    # Now, stack is reverse, put all values into queue from stack\n",
    "    for i in range(len(stack)):\n",
    "        q.append(stack.pop())\n",
    "    # Put 2 times value into stack from queue\n",
    "    for i in range(len(q)):\n",
    "        val = q.pop()\n",
    "        stack.append(val)\n",
    "        stack.append(val)\n",
    "\n",
    "    return stack"
   ]
  },
  {
   "cell_type": "markdown",
   "metadata": {},
   "source": [
    "## Switch pairs"
   ]
  },
  {
   "cell_type": "code",
   "execution_count": null,
   "metadata": {},
   "outputs": [],
   "source": [
    "\"\"\"\n",
    "Given a stack, switch_pairs function takes a stack as a parameter and that\n",
    "switches successive pairs of numbers starting at the bottom of the stack.\n",
    "\n",
    "For example, if the stack initially stores these values:\n",
    "bottom [3, 8, 17, 9, 1, 10] top\n",
    "Your function should switch the first pair (3, 8),\n",
    "the second pair (17, 9), ...:\n",
    "bottom [8, 3, 9, 17, 10, 1] top\n",
    "\n",
    "if there are an odd number of values in the stack, the value at the top of the\n",
    "stack is not moved: For example:\n",
    "bottom [3, 8, 17, 9, 1] top\n",
    "It would again switch pairs of values, but the value at the\n",
    "top of the stack (1)\n",
    "would not be moved\n",
    "bottom [8, 3, 9, 17, 1] top\n",
    "\n",
    "Note: There are 2 solutions:\n",
    "first_switch_pairs: it uses a single stack as auxiliary storage\n",
    "second_switch_pairs: it uses a single queue as auxiliary storage\n",
    "\"\"\""
   ]
  },
  {
   "cell_type": "code",
   "execution_count": null,
   "metadata": {},
   "outputs": [],
   "source": [
    "def first_switch_pairs(stack):\n",
    "    storage_stack = []\n",
    "    for i in range(len(stack)):\n",
    "        storage_stack.append(stack.pop())\n",
    "    for i in range(len(storage_stack)):\n",
    "        if len(storage_stack) == 0:\n",
    "            break\n",
    "        first = storage_stack.pop()\n",
    "        if len(storage_stack) == 0:    # case: odd number of values in stack\n",
    "            stack.append(first)\n",
    "            break\n",
    "        second = storage_stack.pop()\n",
    "        stack.append(second)\n",
    "        stack.append(first)\n",
    "    return stack\n",
    "\n",
    "\n",
    "def second_switch_pairs(stack):\n",
    "    q = collections.deque()\n",
    "    # Put all values into queue from stack\n",
    "    for i in range(len(stack)):\n",
    "        q.append(stack.pop())\n",
    "    # Put values back into stack from queue\n",
    "    for i in range(len(q)):\n",
    "        stack.append(q.pop())\n",
    "    # Now, stack is reverse, put all values into queue from stack\n",
    "    for i in range(len(stack)):\n",
    "        q.append(stack.pop())\n",
    "    # Swap pairs by appending the 2nd value before appending 1st value\n",
    "    for i in range(len(q)):\n",
    "        if len(q) == 0:\n",
    "            break\n",
    "        first = q.pop()\n",
    "        if len(q) == 0:                 # case: odd number of values in stack\n",
    "            stack.append(first)\n",
    "            break\n",
    "        second = q.pop()\n",
    "        stack.append(second)\n",
    "        stack.append(first)\n",
    "\n",
    "    return stack\n"
   ]
  },
  {
   "cell_type": "markdown",
   "metadata": {},
   "source": [
    "## Valid parenthesis"
   ]
  },
  {
   "cell_type": "code",
   "execution_count": null,
   "metadata": {},
   "outputs": [],
   "source": [
    "\"\"\"\n",
    "Given a string containing just the characters\n",
    "'(', ')', '{', '}', '[' and ']',\n",
    "determine if the input string is valid.\n",
    "\n",
    "The brackets must close in the correct order,\n",
    "\"()\" and \"()[]{}\" are all valid but \"(]\" and \"([)]\" are not.\n",
    "\"\"\""
   ]
  },
  {
   "cell_type": "code",
   "execution_count": null,
   "metadata": {},
   "outputs": [],
   "source": [
    "def is_valid(s: str) -> bool:\n",
    "    stack = []\n",
    "    dic = {\")\": \"(\",\n",
    "           \"}\": \"{\",\n",
    "           \"]\": \"[\"}\n",
    "    for char in s:\n",
    "        if char in dic.values():\n",
    "            stack.append(char)\n",
    "        elif char in dic:\n",
    "            if not stack or dic[char] != stack.pop():\n",
    "                return False\n",
    "    return not stack"
   ]
  }
 ],
 "metadata": {
  "kernelspec": {
   "display_name": "Python 3",
   "language": "python",
   "name": "python3"
  },
  "language_info": {
   "name": "python",
   "version": "3.12.4"
  }
 },
 "nbformat": 4,
 "nbformat_minor": 2
}
