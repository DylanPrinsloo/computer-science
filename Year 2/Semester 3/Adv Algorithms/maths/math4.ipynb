{
 "cells": [
  {
   "cell_type": "markdown",
   "metadata": {},
   "source": [
    "# Advanced Number Theory"
   ]
  },
  {
   "cell_type": "code",
   "execution_count": null,
   "metadata": {},
   "outputs": [],
   "source": [
    "# init from math.ipynb\n",
    "\n",
    "from .base_conversion import *\n",
    "from .decimal_to_binary_ip import *\n",
    "from .euler_totient import *\n",
    "from .extended_gcd import *\n",
    "from .factorial import *\n",
    "from .gcd import *\n",
    "from .generate_strobogrammtic import *\n",
    "from .is_strobogrammatic import *\n",
    "from .modular_exponential import *\n",
    "from .next_perfect_square import *\n",
    "from .prime_check import *\n",
    "from .primes_sieve_of_eratosthenes import *\n",
    "from .pythagoras import *\n",
    "from .rabin_miller import *\n",
    "from .rsa import *\n",
    "from .combination import *\n",
    "from .cosine_similarity import *\n",
    "from .find_order_simple import *\n",
    "from .find_primitive_root_simple import *\n",
    "from .diffie_hellman_key_exchange import *\n",
    "from .num_digits import *\n",
    "from .power import *\n",
    "from .magic_number import *\n",
    "from .krishnamurthy_number import *\n",
    "from .num_perfect_squares import *\n",
    "# import math\n",
    "from cmath import exp, pi"
   ]
  },
  {
   "cell_type": "markdown",
   "metadata": {},
   "source": [
    "## Extended Euclidean algorithm"
   ]
  },
  {
   "cell_type": "markdown",
   "metadata": {},
   "source": [
    "#### Provides extended GCD functionality for finding co-prime numbers s and t such that:\n",
    "#### num1 * s + num2 * t = GCD(num1, num2).\n",
    "#### Ie the coefficients of Bézout's identity.\n"
   ]
  },
  {
   "cell_type": "code",
   "execution_count": null,
   "metadata": {},
   "outputs": [],
   "source": [
    "def extended_gcd(num1, num2):\n",
    "    \"\"\"\n",
    "    Extended GCD algorithm.\n",
    "    Return s, t, g\n",
    "    such that num1 * s + num2 * t = GCD(num1, num2)\n",
    "    and s and t are co-prime.\n",
    "    \"\"\"\n",
    "\n",
    "    old_s, s = 1, 0\n",
    "    old_t, t = 0, 1\n",
    "    old_r, r = num1, num2\n",
    "\n",
    "    while r != 0:\n",
    "        quotient = old_r / r\n",
    "\n",
    "        old_r, r = r, old_r - quotient * r\n",
    "        old_s, s = s, old_s - quotient * s\n",
    "        old_t, t = t, old_t - quotient * t\n",
    "\n",
    "    return old_s, old_t, old_r"
   ]
  },
  {
   "cell_type": "markdown",
   "metadata": {},
   "source": [
    "## Greatest Common Divisor"
   ]
  },
  {
   "cell_type": "markdown",
   "metadata": {},
   "source": [
    "#### Compute Greatest Common Divisor (GCD) using Euclid's Algorithm"
   ]
  },
  {
   "cell_type": "code",
   "execution_count": null,
   "metadata": {},
   "outputs": [],
   "source": [
    "def gcd(a, b):\n",
    "    \"\"\"Computes the greatest common divisor of integers a and b using\n",
    "    Euclid's Algorithm.\n",
    "    gcd{𝑎,𝑏}=gcd{−𝑎,𝑏}=gcd{𝑎,−𝑏}=gcd{−𝑎,−𝑏}\n",
    "    \n",
    "    See proof: https://proofwiki.org/wiki/GCD_for_Negative_Integers\n",
    "    \"\"\"\n",
    "    a_int = isinstance(a, int)\n",
    "    b_int = isinstance(b, int)\n",
    "    a = abs(a)\n",
    "    b = abs(b)\n",
    "    if not(a_int or b_int):\n",
    "        raise ValueError(\"Input arguments are not integers\")\n",
    "\n",
    "    if (a == 0) or (b == 0):\n",
    "        raise ValueError(\"One or more input arguments equals zero\")\n",
    "\n",
    "    while b != 0:\n",
    "        a, b = b, a % b\n",
    "    return a\n"
   ]
  },
  {
   "cell_type": "markdown",
   "metadata": {},
   "source": [
    "####  Compute Least Common Multiple (LCM)"
   ]
  },
  {
   "cell_type": "code",
   "execution_count": null,
   "metadata": {},
   "outputs": [],
   "source": [
    "def lcm(a, b):\n",
    "    \"\"\"\n",
    "    Computes the lowest common multiple of integers a and b.\n",
    "    \"\"\"\n",
    "    return abs(a) * abs(b) / gcd(a, b)\n"
   ]
  },
  {
   "cell_type": "markdown",
   "metadata": {},
   "source": [
    "#### Count the Number of Trailing Zeros in a Binary Representation"
   ]
  },
  {
   "cell_type": "code",
   "execution_count": null,
   "metadata": {},
   "outputs": [],
   "source": [
    "\"\"\"\n",
    "Given a positive integer x, computes the number of trailing zero of x.\n",
    "Example\n",
    "Input : 34(100010)\n",
    "           ~~~~~^\n",
    "Output : 1\n",
    "\n",
    "Input : 40(101000)\n",
    "           ~~~^^^\n",
    "Output : 3\n",
    "\"\"\""
   ]
  },
  {
   "cell_type": "code",
   "execution_count": null,
   "metadata": {},
   "outputs": [],
   "source": [
    "def trailing_zero(x):\n",
    "    count = 0\n",
    "    while x and not x & 1:\n",
    "        count += 1\n",
    "        x >>= 1\n",
    "    return count"
   ]
  },
  {
   "cell_type": "markdown",
   "metadata": {},
   "source": [
    "#### Compute GCD Using Bitwise Operators"
   ]
  },
  {
   "cell_type": "markdown",
   "metadata": {},
   "source": [
    "#### Given two non-negative integer a and b, computes the greatest common divisor of a and b using bitwise operator."
   ]
  },
  {
   "cell_type": "code",
   "execution_count": null,
   "metadata": {},
   "outputs": [],
   "source": [
    "def gcd_bit(a, b):\n",
    "    \"\"\" \n",
    "    Similar to gcd but uses bitwise operators and less error handling.\n",
    "    \"\"\"\n",
    "    tza = trailing_zero(a)\n",
    "    tzb = trailing_zero(b)\n",
    "    a >>= tza\n",
    "    b >>= tzb\n",
    "    while b:\n",
    "        if a < b:\n",
    "            a, b = b, a\n",
    "        a -= b\n",
    "        a >>= trailing_zero(a)\n",
    "    return a << min(tza, tzb)"
   ]
  },
  {
   "cell_type": "markdown",
   "metadata": {},
   "source": [
    "## Special number properties"
   ]
  },
  {
   "cell_type": "markdown",
   "metadata": {},
   "source": [
    "####  Krishnamurthy number is a number whose sum total of the factorials of each digit is equal to the number itself."
   ]
  },
  {
   "cell_type": "code",
   "execution_count": null,
   "metadata": {},
   "outputs": [],
   "source": [
    "\"\"\"\n",
    "The following are some examples of Krishnamurthy numbers:\n",
    "\n",
    "\"145\" is a Krishnamurthy Number because,\n",
    "1! + 4! + 5! = 1 + 24 + 120 = 145\n",
    "\n",
    "\"40585\" is also a Krishnamurthy Number.\n",
    "4! + 0! + 5! + 8! + 5! = 40585\n",
    "\n",
    "\"357\" or \"25965\" is NOT a Krishnamurthy Number\n",
    "3! + 5! + 7! = 6 + 120 + 5040 != 357\n",
    "\n",
    "The following function will check if a number is a Krishnamurthy Number or not and return a\n",
    "boolean value.\n",
    "\"\"\""
   ]
  },
  {
   "cell_type": "code",
   "execution_count": null,
   "metadata": {},
   "outputs": [],
   "source": [
    "def find_factorial(n):\n",
    "    \"\"\" \n",
    "    Calculates the factorial of a given number n \n",
    "    \"\"\"\n",
    "    fact = 1\n",
    "    while n != 0:\n",
    "        fact *= n\n",
    "        n -= 1\n",
    "    return fact\n",
    "\n",
    "\n",
    "def krishnamurthy_number(n):\n",
    "    if n == 0:\n",
    "        return False\n",
    "    sum_of_digits = 0   # will hold sum of FACTORIAL of digits\n",
    "    temp = n\n",
    "\n",
    "    while temp != 0:\n",
    "\n",
    "        # get the factorial of of the last digit of n and add it to sum_of_digits\n",
    "        sum_of_digits += find_factorial(temp % 10)\n",
    "\n",
    "        # replace value of temp by temp/10\n",
    "        # i.e. will remove the last digit from temp\n",
    "        temp //= 10\n",
    "\n",
    "    # returns True if number is krishnamurthy\n",
    "    return sum_of_digits == n"
   ]
  },
  {
   "cell_type": "markdown",
   "metadata": {},
   "source": [
    "## Combinations and permutations"
   ]
  },
  {
   "cell_type": "markdown",
   "metadata": {},
   "source": [
    "#### Functions to calculate nCr (ie how many ways to choose r items from n items)"
   ]
  },
  {
   "cell_type": "markdown",
   "metadata": {},
   "source": [
    "#### This function calculates nCr."
   ]
  },
  {
   "cell_type": "code",
   "execution_count": null,
   "metadata": {},
   "outputs": [],
   "source": [
    "def combination(n, r):\n",
    "    if n == r or r == 0:\n",
    "        return 1\n",
    "    return combination(n-1, r-1) + combination(n-1, r)"
   ]
  },
  {
   "cell_type": "markdown",
   "metadata": {},
   "source": [
    "#### This function calculates nCr using memoization method."
   ]
  },
  {
   "cell_type": "code",
   "execution_count": null,
   "metadata": {},
   "outputs": [],
   "source": [
    "def combination_memo(n, r):\n",
    "    memo = {}\n",
    "    def recur(n, r):\n",
    "        if n == r or r == 0:\n",
    "            return 1\n",
    "        if (n, r) not in memo:\n",
    "            memo[(n, r)] = recur(n - 1, r - 1) + recur(n - 1, r)\n",
    "        return memo[(n, r)]\n",
    "    return recur(n, r)"
   ]
  },
  {
   "cell_type": "markdown",
   "metadata": {},
   "source": [
    "## Finding primitive roots"
   ]
  },
  {
   "cell_type": "markdown",
   "metadata": {},
   "source": [
    "#### Find the order of a modulo n"
   ]
  },
  {
   "cell_type": "code",
   "execution_count": null,
   "metadata": {},
   "outputs": [],
   "source": [
    "\"\"\"\n",
    "For positive integer n and given integer a that satisfies gcd(a, n) = 1,\n",
    "the order of a modulo n is the smallest positive integer k that satisfies\n",
    "pow (a, k) % n = 1. In other words, (a^k) ≡ 1 (mod n).\n",
    "Order of certain number may or may not be exist. If so, return -1.\n",
    "\"\"\""
   ]
  },
  {
   "cell_type": "code",
   "execution_count": null,
   "metadata": {},
   "outputs": [],
   "source": [
    "# import math"
   ]
  },
  {
   "cell_type": "code",
   "execution_count": null,
   "metadata": {},
   "outputs": [],
   "source": [
    "def find_order(a, n):\n",
    "    \"\"\"\n",
    "    Find order for positive integer n and given integer a that satisfies gcd(a, n) = 1.\n",
    "    Time complexity O(nlog(n))\n",
    "    \"\"\"\n",
    "    if (a == 1) & (n == 1):\n",
    "        # Exception Handeling : 1 is the order of of 1\n",
    "        return 1\n",
    "    if math.gcd(a, n) != 1:\n",
    "        print (\"a and n should be relative prime!\")\n",
    "        return -1\n",
    "    for i in range(1, n):\n",
    "        if pow(a, i) % n == 1:\n",
    "            return i\n",
    "    return -1"
   ]
  },
  {
   "cell_type": "markdown",
   "metadata": {},
   "source": [
    "#### Calculate Euler's Totient Function (ϕ)"
   ]
  },
  {
   "cell_type": "code",
   "execution_count": null,
   "metadata": {},
   "outputs": [],
   "source": [
    "\"\"\"\n",
    "Euler's totient function, also known as phi-function ϕ(n),\n",
    "counts the number of integers between 1 and n inclusive,\n",
    "which are coprime to n.\n",
    "(Two numbers are coprime if their greatest common divisor (GCD) equals 1).\n",
    "Code from /algorithms/maths/euler_totient.py, written by 'goswami-rahul'\n",
    "\"\"\""
   ]
  },
  {
   "cell_type": "code",
   "execution_count": null,
   "metadata": {},
   "outputs": [],
   "source": [
    "def euler_totient(n):\n",
    "    \"\"\"Euler's totient function or Phi function.\n",
    "    Time Complexity: O(sqrt(n)).\"\"\"\n",
    "    result = n\n",
    "    for i in range(2, int(n ** 0.5) + 1):\n",
    "        if n % i == 0:\n",
    "            while n % i == 0:\n",
    "                n //= i\n",
    "            result -= result // i\n",
    "    if n > 1:\n",
    "        result -= result // n\n",
    "    return result"
   ]
  },
  {
   "cell_type": "markdown",
   "metadata": {},
   "source": [
    "#### Find primitive roots of n"
   ]
  },
  {
   "cell_type": "code",
   "execution_count": null,
   "metadata": {},
   "outputs": [],
   "source": [
    "\"\"\"\n",
    "For positive integer n and given integer a that satisfies gcd(a, n) = 1,\n",
    "a is the primitive root of n, if a's order k for n satisfies k = ϕ(n).\n",
    "Primitive roots of certain number may or may not exist.\n",
    "If so, return empty list.\n",
    "\"\"\""
   ]
  },
  {
   "cell_type": "code",
   "execution_count": null,
   "metadata": {},
   "outputs": [],
   "source": [
    "def find_primitive_root(n):\n",
    "    if n == 1:\n",
    "        # Exception Handeling : 0 is the only primitive root of 1\n",
    "        return [0]\n",
    "    phi = euler_totient(n)\n",
    "    p_root_list = []\n",
    "    \"\"\" It will return every primitive roots of n. \"\"\"\n",
    "    for i in range (1, n):\n",
    "        #To have order, a and n must be relative prime with each other.\n",
    "        if math.gcd(i, n) == 1:\n",
    "            order = find_order(i, n)\n",
    "            if order == phi:\n",
    "                p_root_list.append(i)\n",
    "    return p_root_list\n"
   ]
  },
  {
   "cell_type": "markdown",
   "metadata": {},
   "source": [
    "## Finding multiplicative order"
   ]
  },
  {
   "cell_type": "code",
   "execution_count": null,
   "metadata": {},
   "outputs": [],
   "source": [
    "\"\"\"\n",
    "For positive integer n and given integer a that satisfies gcd(a, n) = 1,\n",
    "the order of a modulo n is the smallest positive integer k that satisfies\n",
    "pow (a, k) % n = 1. In other words, (a^k) ≡ 1 (mod n).\n",
    "Order of a certain number may or may not be exist. If not, return -1.\n",
    "\n",
    "Total time complexity O(nlog(n)):\n",
    "O(n) for iteration loop, \n",
    "O(log(n)) for built-in power function\n",
    "\"\"\""
   ]
  },
  {
   "cell_type": "code",
   "execution_count": null,
   "metadata": {},
   "outputs": [],
   "source": [
    "# import math\n",
    "def find_order(a, n):\n",
    "    \"\"\"\n",
    "    Find order for positive integer n and given integer a that satisfies gcd(a, n) = 1.\n",
    "    \"\"\"\n",
    "    if (a == 1) & (n == 1):\n",
    "        # Exception Handeling : 1 is the order of of 1\n",
    "        return 1\n",
    "    if math.gcd(a, n) != 1:\n",
    "        print (\"a and n should be relative prime!\")\n",
    "        return -1\n",
    "    for i in range(1, n):\n",
    "        if pow(a, i) % n == 1:\n",
    "            return i\n",
    "    return -1"
   ]
  }
 ],
 "metadata": {
  "kernelspec": {
   "display_name": "Python 3",
   "language": "python",
   "name": "python3"
  },
  "language_info": {
   "name": "python",
   "version": "3.12.4"
  }
 },
 "nbformat": 4,
 "nbformat_minor": 2
}
