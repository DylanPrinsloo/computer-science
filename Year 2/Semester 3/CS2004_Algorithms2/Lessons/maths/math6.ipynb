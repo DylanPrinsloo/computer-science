{
 "cells": [
  {
   "cell_type": "markdown",
   "metadata": {},
   "source": [
    "# Pattern Recognition & Special Sequences"
   ]
  },
  {
   "cell_type": "code",
   "execution_count": null,
   "metadata": {},
   "outputs": [],
   "source": [
    "# init from math.ipynb\n",
    "# insert here\n",
    "import math\n",
    "from random import randint\n",
    "from fractions import Fraction\n",
    "from typing import Dict, Union\n",
    "from polynomial import ( Monomial, Polynomial )\n",
    "from gcd import lcm"
   ]
  },
  {
   "cell_type": "markdown",
   "metadata": {},
   "source": [
    "## Strobogrammatic numbers"
   ]
  },
  {
   "cell_type": "markdown",
   "metadata": {},
   "source": [
    "#### A strobogrammatic number is a number that looks the same when rotated 180 degrees (looked at upside down)."
   ]
  },
  {
   "cell_type": "code",
   "execution_count": null,
   "metadata": {},
   "outputs": [],
   "source": [
    "\"\"\"\n",
    "Write a function to determine if a number is strobogrammatic.\n",
    "The number is represented as a string.\n",
    "\n",
    "For example, the numbers \"69\", \"88\", and \"818\" are all strobogrammatic.\n",
    "\"\"\""
   ]
  },
  {
   "cell_type": "code",
   "execution_count": null,
   "metadata": {},
   "outputs": [],
   "source": [
    "def is_strobogrammatic(num):\n",
    "    \"\"\"\n",
    "    :type num: str\n",
    "    :rtype: bool\n",
    "    \"\"\"\n",
    "    comb = \"00 11 88 69 96\"\n",
    "    i = 0\n",
    "    j = len(num) - 1\n",
    "    while i <= j:\n",
    "        if comb.find(num[i]+num[j]) == -1:\n",
    "            return False\n",
    "        i += 1\n",
    "        j -= 1\n",
    "    return True\n",
    "\n",
    "\n",
    "def is_strobogrammatic2(num: str):\n",
    "    \"\"\"Another implementation.\"\"\"\n",
    "    return num == num[::-1].replace('6', '#').replace('9', '6').replace('#', '9')"
   ]
  },
  {
   "cell_type": "markdown",
   "metadata": {},
   "source": [
    "## Generating strobogrammatic numbers"
   ]
  },
  {
   "cell_type": "code",
   "execution_count": null,
   "metadata": {},
   "outputs": [],
   "source": [
    "\"\"\"\n",
    "Find all strobogrammatic numbers that are of length = n.\n",
    "\n",
    "For example,\n",
    "Given n = 2, return [\"11\",\"69\",\"88\",\"96\"].\n",
    "\"\"\""
   ]
  },
  {
   "cell_type": "markdown",
   "metadata": {},
   "source": [
    "#### Generating Strobogrammatic Numbers"
   ]
  },
  {
   "cell_type": "code",
   "execution_count": null,
   "metadata": {},
   "outputs": [],
   "source": [
    "def gen_strobogrammatic(n):\n",
    "    \"\"\"\n",
    "    Given n, generate all strobogrammatic numbers of length n.\n",
    "    :type n: int\n",
    "    :rtype: List[str]\n",
    "    \"\"\"\n",
    "    return helper(n, n)"
   ]
  },
  {
   "cell_type": "markdown",
   "metadata": {},
   "source": [
    "#### Recursive Helper Function"
   ]
  },
  {
   "cell_type": "code",
   "execution_count": null,
   "metadata": {},
   "outputs": [],
   "source": [
    "def helper(n, length):\n",
    "    if n == 0:\n",
    "        return [\"\"]\n",
    "    if n == 1:\n",
    "        return [\"1\", \"0\", \"8\"]\n",
    "    middles = helper(n-2, length)\n",
    "    result = []\n",
    "    for middle in middles:\n",
    "        if n != length:\n",
    "            result.append(\"0\" + middle + \"0\")\n",
    "        result.append(\"8\" + middle + \"8\")\n",
    "        result.append(\"1\" + middle + \"1\")\n",
    "        result.append(\"9\" + middle + \"6\")\n",
    "        result.append(\"6\" + middle + \"9\")\n",
    "    return result"
   ]
  },
  {
   "cell_type": "markdown",
   "metadata": {},
   "source": [
    "#### Finding Strobogrammatic Numbers in a Range"
   ]
  },
  {
   "cell_type": "code",
   "execution_count": null,
   "metadata": {},
   "outputs": [],
   "source": [
    "def strobogrammatic_in_range(low, high):\n",
    "    \"\"\"\n",
    "    :type low: str\n",
    "    :type high: str\n",
    "    :rtype: int\n",
    "    \"\"\"\n",
    "    res = []\n",
    "    count = 0\n",
    "    low_len = len(low)\n",
    "    high_len = len(high)\n",
    "    for i in range(low_len, high_len + 1):\n",
    "        res.extend(helper2(i, i))\n",
    "    for perm in res:\n",
    "        if len(perm) == low_len and int(perm) < int(low):\n",
    "            continue\n",
    "        if len(perm) == high_len and int(perm) > int(high):\n",
    "            continue\n",
    "        count += 1\n",
    "    return count"
   ]
  },
  {
   "cell_type": "markdown",
   "metadata": {},
   "source": [
    "#### Helper Function for Range-based Strobogrammatic Number Generation"
   ]
  },
  {
   "cell_type": "code",
   "execution_count": null,
   "metadata": {},
   "outputs": [],
   "source": [
    "def helper2(n, length):\n",
    "    if n == 0:\n",
    "        return [\"\"]\n",
    "    if n == 1:\n",
    "        return [\"0\", \"8\", \"1\"]\n",
    "    mids = helper(n-2, length)\n",
    "    res = []\n",
    "    for mid in mids:\n",
    "        if n != length:\n",
    "            res.append(\"0\"+mid+\"0\")\n",
    "        res.append(\"1\"+mid+\"1\")\n",
    "        res.append(\"6\"+mid+\"9\")\n",
    "        res.append(\"9\"+mid+\"6\")\n",
    "        res.append(\"8\"+mid+\"8\")\n",
    "    return res"
   ]
  },
  {
   "cell_type": "markdown",
   "metadata": {},
   "source": [
    "## Measuring similarity between vectors"
   ]
  },
  {
   "cell_type": "markdown",
   "metadata": {},
   "source": [
    "#### Calculate cosine similarity between given two 1d list. Two list must have the same length.\n",
    "\n",
    "#### Example:\n",
    "#### cosine_similarity([1, 1, 1], [1, 2, -1])  # output : 0.47140452079103173"
   ]
  },
  {
   "cell_type": "code",
   "execution_count": null,
   "metadata": {},
   "outputs": [],
   "source": [
    "# import math"
   ]
  },
  {
   "cell_type": "code",
   "execution_count": null,
   "metadata": {},
   "outputs": [],
   "source": [
    "def _l2_distance(vec):\n",
    "    \"\"\"\n",
    "    Calculate l2 distance from two given vectors.\n",
    "    \"\"\"\n",
    "    norm = 0.\n",
    "    for element in vec:\n",
    "        norm += element * element\n",
    "    norm = math.sqrt(norm)\n",
    "    return norm\n",
    "\n",
    "\n",
    "def cosine_similarity(vec1, vec2):\n",
    "    \"\"\"\n",
    "    Calculate cosine similarity between given two vectors\n",
    "    :type vec1: list\n",
    "    :type vec2: list\n",
    "    \"\"\"\n",
    "    if len(vec1) != len(vec2):\n",
    "        raise ValueError(\"The two vectors must be the same length. Got shape \" + str(len(vec1))\n",
    "                        + \" and \" + str(len(vec2)))\n",
    "\n",
    "    norm_a = _l2_distance(vec1)\n",
    "    norm_b = _l2_distance(vec2)\n",
    "\n",
    "    similarity = 0.\n",
    "\n",
    "    # Calculate the dot product of two vectors\n",
    "    for vec1_element, vec2_element in zip(vec1, vec2):\n",
    "        similarity += vec1_element * vec2_element\n",
    "\n",
    "    similarity /= (norm_a * norm_b)\n",
    "\n",
    "    return similarity"
   ]
  }
 ],
 "metadata": {
  "kernelspec": {
   "display_name": "Python 3",
   "language": "python",
   "name": "python3"
  },
  "language_info": {
   "name": "python",
   "version": "3.12.4"
  }
 },
 "nbformat": 4,
 "nbformat_minor": 2
}
