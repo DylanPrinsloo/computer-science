{
 "cells": [
  {
   "cell_type": "markdown",
   "metadata": {},
   "source": [
    "#  **Matrix**\n",
    " Matrices are 2D arrays of numbers used in a variety of algorithms, including those for linear transformations, solving systems of equations, and graph algorithms.\n",
    "   - **Applications:** Machine learning, computer graphics, network theory."
   ]
  },
  {
   "cell_type": "code",
   "execution_count": null,
   "metadata": {},
   "outputs": [],
   "source": [
    "# init"
   ]
  },
  {
   "cell_type": "markdown",
   "metadata": {},
   "source": [
    "# Basic Matrix Operations"
   ]
  },
  {
   "cell_type": "markdown",
   "metadata": {},
   "source": [
    "## Multiply"
   ]
  },
  {
   "cell_type": "code",
   "execution_count": null,
   "metadata": {},
   "outputs": [],
   "source": [
    "\"\"\"\n",
    "This algorithm takes two compatible two dimensional matrix\n",
    "and return their product\n",
    "Space complexity: O(n^2)\n",
    "Possible edge case: the number of columns of multiplicand not consistent with\n",
    "the number of rows of multiplier, will raise exception\n",
    "\"\"\""
   ]
  },
  {
   "cell_type": "code",
   "execution_count": null,
   "metadata": {},
   "outputs": [],
   "source": [
    "def multiply(multiplicand: list, multiplier: list) -> list:\n",
    "    \"\"\"\n",
    "    :type A: List[List[int]]\n",
    "    :type B: List[List[int]]\n",
    "    :rtype: List[List[int]]\n",
    "    \"\"\"\n",
    "    multiplicand_row, multiplicand_col = len(\n",
    "        multiplicand), len(multiplicand[0])\n",
    "    multiplier_row, multiplier_col = len(multiplier), len(multiplier[0])\n",
    "    if(multiplicand_col != multiplier_row):\n",
    "        raise Exception(\n",
    "            \"Multiplicand matrix not compatible with Multiplier matrix.\")\n",
    "    # create a result matrix\n",
    "    result = [[0] * multiplier_col for i in range(multiplicand_row)]\n",
    "    for i in range(multiplicand_row):\n",
    "        for j in range(multiplier_col):\n",
    "            for k in range(len(multiplier)):\n",
    "                result[i][j] += multiplicand[i][k] * multiplier[k][j]\n",
    "    return result"
   ]
  },
  {
   "cell_type": "markdown",
   "metadata": {},
   "source": [
    "## Sum sub squares"
   ]
  },
  {
   "cell_type": "code",
   "execution_count": null,
   "metadata": {},
   "outputs": [],
   "source": [
    "# Function to find sum of all\n",
    "# sub-squares of size k x k in a given\n",
    "# square matrix of size n x n"
   ]
  },
  {
   "cell_type": "code",
   "execution_count": null,
   "metadata": {},
   "outputs": [],
   "source": [
    "def sum_sub_squares(matrix, k):\n",
    "    n = len(matrix)\n",
    "    result = [[0 for i in range(k)] for j in range(k)]\n",
    "\n",
    "    if k > n:\n",
    "        return\n",
    "    for i in range(n - k + 1):\n",
    "        l = 0\n",
    "        for j in range(n - k + 1):\n",
    "            sum = 0\n",
    "\n",
    "            # Calculate and print sum of current sub-square\n",
    "            for p in range(i, k + i):\n",
    "                for q in range(j, k + j):\n",
    "                    sum += matrix[p][q]\n",
    "\n",
    "            result[i][l] = sum\n",
    "            l += 1\n",
    "\n",
    "    return result"
   ]
  },
  {
   "cell_type": "markdown",
   "metadata": {},
   "source": [
    "# Matrix Transformations"
   ]
  },
  {
   "cell_type": "markdown",
   "metadata": {},
   "source": [
    "## Copy transform"
   ]
  },
  {
   "cell_type": "code",
   "execution_count": null,
   "metadata": {},
   "outputs": [],
   "source": [
    "def rotate_clockwise(matrix):\n",
    "    new = []\n",
    "    for row in reversed(matrix):\n",
    "        for i, elem in enumerate(row):\n",
    "            try:\n",
    "                new[i].append(elem)\n",
    "            except IndexError:\n",
    "                new.insert(i, [])\n",
    "                new[i].append(elem)\n",
    "    return new\n",
    "\n",
    "\n",
    "def rotate_counterclockwise(matrix):\n",
    "    new = []\n",
    "    for row in matrix:\n",
    "        for i, elem in enumerate(reversed(row)):\n",
    "            try:\n",
    "                new[i].append(elem)\n",
    "            except IndexError:\n",
    "                new.insert(i, [])\n",
    "                new[i].append(elem)\n",
    "    return new\n",
    "\n",
    "\n",
    "def top_left_invert(matrix):\n",
    "    new = []\n",
    "    for row in matrix:\n",
    "        for i, elem in enumerate(row):\n",
    "            try:\n",
    "                new[i].append(elem)\n",
    "            except IndexError:\n",
    "                new.insert(i, [])\n",
    "                new[i].append(elem)\n",
    "    return new\n",
    "\n",
    "\n",
    "def bottom_left_invert(matrix):\n",
    "    new = []\n",
    "    for row in reversed(matrix):\n",
    "        for i, elem in enumerate(reversed(row)):\n",
    "            try:\n",
    "                new[i].append(elem)\n",
    "            except IndexError:\n",
    "                new.insert(i, [])\n",
    "                new[i].append(elem)\n",
    "    return new\n",
    "\n",
    "\n",
    "if __name__ == '__main__':\n",
    "    def print_matrix(matrix, name):\n",
    "        print('{}:\\n['.format(name))\n",
    "        for row in matrix:\n",
    "            print('  {}'.format(row))\n",
    "        print(']\\n')\n",
    "\n",
    "    matrix = [\n",
    "        [1, 2, 3],\n",
    "        [4, 5, 6],\n",
    "        [7, 8, 9],\n",
    "    ]\n",
    "\n",
    "    print_matrix(matrix, 'initial')\n",
    "    print_matrix(rotate_clockwise(matrix), 'clockwise')\n",
    "    print_matrix(rotate_counterclockwise(matrix), 'counterclockwise')\n",
    "    print_matrix(top_left_invert(matrix), 'top left invert')\n",
    "    print_matrix(bottom_left_invert(matrix), 'bottom left invert')"
   ]
  },
  {
   "cell_type": "markdown",
   "metadata": {},
   "source": [
    "## Rotate image"
   ]
  },
  {
   "cell_type": "code",
   "execution_count": null,
   "metadata": {},
   "outputs": [],
   "source": [
    "\"\"\"\n",
    "You are given an n x n 2D mat representing an image.\n",
    "\n",
    "Rotate the image by 90 degrees (clockwise).\n",
    "\n",
    "Follow up:\n",
    "Could you do this in-place?\n",
    "\"\"\""
   ]
  },
  {
   "cell_type": "code",
   "execution_count": null,
   "metadata": {},
   "outputs": [],
   "source": [
    "# clockwise rotate\n",
    "# first reverse up to down, then swap the symmetry\n",
    "# 1 2 3     7 8 9     7 4 1\n",
    "# 4 5 6  => 4 5 6  => 8 5 2\n",
    "# 7 8 9     1 2 3     9 6 3\n",
    "\n",
    "def rotate(mat):\n",
    "    if not mat:\n",
    "        return mat\n",
    "    mat.reverse()\n",
    "    for i in range(len(mat)):\n",
    "        for j in range(i):\n",
    "            mat[i][j], mat[j][i] = mat[j][i], mat[i][j]\n",
    "    return mat\n",
    "\n",
    "\n",
    "if __name__ == \"__main__\":\n",
    "    mat = [[1, 2, 3],\n",
    "           [4, 5, 6],\n",
    "           [7, 8, 9]]\n",
    "    print(mat)\n",
    "    rotate(mat)\n",
    "    print(mat)"
   ]
  }
 ],
 "metadata": {
  "kernelspec": {
   "display_name": "Python 3",
   "language": "python",
   "name": "python3"
  },
  "language_info": {
   "name": "python",
   "version": "3.12.4"
  }
 },
 "nbformat": 4,
 "nbformat_minor": 2
}
