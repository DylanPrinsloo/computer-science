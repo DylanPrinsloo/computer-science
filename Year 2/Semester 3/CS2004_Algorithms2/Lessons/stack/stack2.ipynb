{
 "cells": [
  {
   "cell_type": "code",
   "execution_count": null,
   "metadata": {},
   "outputs": [],
   "source": [
    "# init\n",
    "from .stack import *\n",
    "from .is_consecutive import *\n",
    "from .is_sorted import *\n",
    "from .remove_min import *\n",
    "from .stutter import *\n",
    "from .switch_pairs import *\n",
    "from .valid_parenthesis import *\n",
    "from .simplify_path import *\n",
    "from .stack import *\n",
    "from .ordered_stack import *\n",
    "import collections\n",
    "from abc import ABCMeta, abstractmethod"
   ]
  },
  {
   "cell_type": "markdown",
   "metadata": {},
   "source": [
    "## Remove min"
   ]
  },
  {
   "cell_type": "markdown",
   "metadata": {},
   "source": [
    "#### Given a stack, a function remove_min accepts a stack as a parameter and removes the smallest value from the stack."
   ]
  },
  {
   "cell_type": "code",
   "execution_count": null,
   "metadata": {},
   "outputs": [],
   "source": [
    "\"\"\"\n",
    "For example:\n",
    "bottom [2, 8, 3, -6, 7, 3] top\n",
    "After remove_min(stack):\n",
    "bottom [2, 8, 3, 7, 3] top\n",
    "\n",
    "\"\"\""
   ]
  },
  {
   "cell_type": "code",
   "execution_count": null,
   "metadata": {},
   "outputs": [],
   "source": [
    "def remove_min(stack):\n",
    "    storage_stack = []\n",
    "    if len(stack) == 0:  # Stack is empty\n",
    "        return stack\n",
    "    # Find the smallest value\n",
    "    min = stack.pop()\n",
    "    stack.append(min)\n",
    "    for i in range(len(stack)):\n",
    "        val = stack.pop()\n",
    "        if val <= min:\n",
    "            min = val\n",
    "        storage_stack.append(val)\n",
    "    # Back up stack and remove min value\n",
    "    for i in range(len(storage_stack)):\n",
    "        val = storage_stack.pop()\n",
    "        if val != min:\n",
    "            stack.append(val)\n",
    "    return stack\n"
   ]
  },
  {
   "cell_type": "markdown",
   "metadata": {},
   "source": [
    "## Simplify a Unix-style absolute file path."
   ]
  },
  {
   "cell_type": "code",
   "execution_count": null,
   "metadata": {},
   "outputs": [],
   "source": [
    "\"\"\"\n",
    "Given an absolute path for a file (Unix-style), simplify it.\n",
    "\n",
    "For example,\n",
    "path = \"/home/\", => \"/home\"\n",
    "path = \"/a/./b/../../c/\", => \"/c\"\n",
    "\n",
    "* Did you consider the case where path = \"/../\"?\n",
    "    In this case, you should return \"/\".\n",
    "* Another corner case is the path might contain multiple slashes '/' together,\n",
    "    such as \"/home//foo/\". In this case, you should ignore redundant\n",
    "    slashes and return \"/home/foo\".\n",
    "\"\"\""
   ]
  },
  {
   "cell_type": "code",
   "execution_count": null,
   "metadata": {},
   "outputs": [],
   "source": [
    "def simplify_path(path):\n",
    "    \"\"\"\n",
    "    :param path: str - The Unix-style absolute file path\n",
    "    :return: str - The simplified path\n",
    "    \"\"\"\n",
    "    # Components to skip during simplification\n",
    "    skip = {'..', '.', ''}  # '..' means move up, '.' means stay, '' for redundant slashes\n",
    "    stack = []  # Stack to keep valid path components\n",
    "\n",
    "    # Split the path by '/' to get individual directory/file names\n",
    "    paths = path.split('/')\n",
    "\n",
    "    for tok in paths:\n",
    "        if tok == '..':  # '..' means move up a directory\n",
    "            if stack:  # Only pop if there is a directory to move up from\n",
    "                stack.pop()\n",
    "        elif tok not in skip:  # Ignore '.', '..', and empty strings from redundant slashes\n",
    "            stack.append(tok)  # Add valid directory or file name to the stack\n",
    "\n",
    "    # Return the simplified path by joining the stack with '/'\n",
    "    return '/' + '/'.join(stack)\n"
   ]
  },
  {
   "cell_type": "markdown",
   "metadata": {},
   "source": [
    "## Stack Abstract Data Type using Array and Linked List."
   ]
  },
  {
   "cell_type": "markdown",
   "metadata": {},
   "source": [
    "1. **`Stack()`**  \n",
    "   - **Description**: Creates a new stack that is empty.  \n",
    "   - **Parameters**: None  \n",
    "   - **Returns**: An empty stack  \n",
    "\n",
    "2. **`push(item)`**  \n",
    "   - **Description**: Adds a new item to the top of the stack.  \n",
    "   - **Parameters**: `item` - the element to be added to the stack  \n",
    "   - **Returns**: Nothing  \n",
    "\n",
    "3. **`pop()`**  \n",
    "   - **Description**: Removes the top item from the stack.  \n",
    "   - **Parameters**: None  \n",
    "   - **Returns**: The item removed from the top of the stack. The stack is modified.\n",
    "\n",
    "4. **`peek()`**  \n",
    "   - **Description**: Returns the top item from the stack without removing it.  \n",
    "   - **Parameters**: None  \n",
    "   - **Returns**: The top item of the stack. The stack is not modified.\n",
    "\n",
    "5. **`is_empty()`**  \n",
    "   - **Description**: Tests whether the stack is empty.  \n",
    "   - **Parameters**: None  \n",
    "   - **Returns**: A boolean value indicating if the stack is empty (`True` if empty, `False` otherwise)."
   ]
  },
  {
   "cell_type": "code",
   "execution_count": null,
   "metadata": {},
   "outputs": [],
   "source": [
    "# init\n",
    "# uncomment line below if you havent imported above\n",
    "\n",
    "# from abc import ABCMeta, abstractmethod"
   ]
  },
  {
   "cell_type": "markdown",
   "metadata": {},
   "source": [
    "#### Abstract Stack Class (AbstractStack)"
   ]
  },
  {
   "cell_type": "code",
   "execution_count": null,
   "metadata": {},
   "outputs": [],
   "source": [
    "class AbstractStack(metaclass=ABCMeta):\n",
    "    \"\"\"\n",
    "    Abstract Class for Stacks, defining core methods all stack types must implement.\n",
    "    \"\"\"\n",
    "    def __init__(self):\n",
    "        self._top = -1  # Initializes the top index\n",
    "\n",
    "    def __len__(self):\n",
    "        return self._top + 1  # Returns the current size of the stack\n",
    "\n",
    "    def __str__(self):\n",
    "        # Provides a string representation of the stack with top at the front\n",
    "        result = \" \".join(map(str, self))\n",
    "        return 'Top-> ' + result\n",
    "\n",
    "    def is_empty(self):\n",
    "        # Checks if the stack is empty\n",
    "        return self._top == -1\n",
    "\n",
    "    @abstractmethod\n",
    "    def __iter__(self):\n",
    "        # Abstract method for iteration through stack items\n",
    "        pass\n",
    "\n",
    "    @abstractmethod\n",
    "    def push(self, value):\n",
    "        # Abstract method for adding an item to the stack\n",
    "        pass\n",
    "\n",
    "    @abstractmethod\n",
    "    def pop(self):\n",
    "        # Abstract method for removing an item from the stack\n",
    "        pass\n",
    "\n",
    "    @abstractmethod\n",
    "    def peek(self):\n",
    "        # Abstract method for viewing the top item of the stack\n",
    "        pass"
   ]
  },
  {
   "cell_type": "markdown",
   "metadata": {},
   "source": [
    "#### Array-based Stack Implementation (ArrayStack)"
   ]
  },
  {
   "cell_type": "code",
   "execution_count": null,
   "metadata": {},
   "outputs": [],
   "source": [
    "class ArrayStack(AbstractStack):\n",
    "    def __init__(self, size=10):\n",
    "        \"\"\"\n",
    "        Array-based stack with a default size of 10. Expands dynamically if needed.\n",
    "        \"\"\"\n",
    "        super().__init__()\n",
    "        self._array = [None] * size  # Initialize an array of the given size\n",
    "\n",
    "    def __iter__(self):\n",
    "        # Iterates through the stack from top to bottom\n",
    "        probe = self._top\n",
    "        while True:\n",
    "            if probe == -1:\n",
    "                return\n",
    "            yield self._array[probe]  # Yield the current element\n",
    "            probe -= 1  # Move to the previous element\n",
    "\n",
    "    def push(self, value):\n",
    "        \"\"\"\n",
    "        Adds a new item to the top of the stack. Expands array if necessary.\n",
    "        \"\"\"\n",
    "        self._top += 1\n",
    "        if self._top == len(self._array):\n",
    "            self._expand()  # Expand array when limit is reached\n",
    "        self._array[self._top] = value  # Add the new value at the top\n",
    "\n",
    "    def pop(self):\n",
    "        \"\"\"\n",
    "        Removes and returns the top item of the stack.\n",
    "        Raises IndexError if the stack is empty.\n",
    "        \"\"\"\n",
    "        if self.is_empty():\n",
    "            raise IndexError(\"Stack is empty\")\n",
    "        value = self._array[self._top]\n",
    "        self._top -= 1\n",
    "        return value\n",
    "\n",
    "    def peek(self):\n",
    "        \"\"\"\n",
    "        Returns the top item of the stack without removing it.\n",
    "        Raises IndexError if the stack is empty.\n",
    "        \"\"\"\n",
    "        if self.is_empty():\n",
    "            raise IndexError(\"Stack is empty\")\n",
    "        return self._array[self._top]\n",
    "\n",
    "    def _expand(self):\n",
    "        \"\"\"\n",
    "        Expands the array by doubling its size. Time complexity: O(n)\n",
    "        \"\"\"\n",
    "        self._array += [None] * len(self._array)  # Double the array size"
   ]
  },
  {
   "cell_type": "markdown",
   "metadata": {},
   "source": [
    "#### Linked List-based Stack Implementation (LinkedListStack)"
   ]
  },
  {
   "cell_type": "code",
   "execution_count": null,
   "metadata": {},
   "outputs": [],
   "source": [
    "class StackNode:\n",
    "    \"\"\"\n",
    "    Represents a single node in a linked list stack, holding the value and a reference to the next node.\n",
    "    \"\"\"\n",
    "    def __init__(self, value):\n",
    "        self.value = value  # The data value of the node\n",
    "        self.next = None  # The next node in the stack\n",
    "\n",
    "\n",
    "class LinkedListStack(AbstractStack):\n",
    "    def __init__(self):\n",
    "        \"\"\"\n",
    "        Linked list-based stack initialized with an empty head (top of the stack).\n",
    "        \"\"\"\n",
    "        super().__init__()\n",
    "        self.head = None  # The head of the stack is the top node\n",
    "\n",
    "    def __iter__(self):\n",
    "        # Iterates through the stack from top to bottom\n",
    "        probe = self.head\n",
    "        while True:\n",
    "            if probe is None:\n",
    "                return\n",
    "            yield probe.value  # Yield the current node's value\n",
    "            probe = probe.next  # Move to the next node\n",
    "\n",
    "    def push(self, value):\n",
    "        \"\"\"\n",
    "        Adds a new item to the top of the stack by creating a new node.\n",
    "        \"\"\"\n",
    "        node = StackNode(value)\n",
    "        node.next = self.head  # Link the new node to the current top\n",
    "        self.head = node  # The new node becomes the top of the stack\n",
    "        self._top += 1\n",
    "\n",
    "    def pop(self):\n",
    "        \"\"\"\n",
    "        Removes and returns the top item of the stack.\n",
    "        Raises IndexError if the stack is empty.\n",
    "        \"\"\"\n",
    "        if self.is_empty():\n",
    "            raise IndexError(\"Stack is empty\")\n",
    "        value = self.head.value  # Get the top item's value\n",
    "        self.head = self.head.next  # Move the head to the next node\n",
    "        self._top -= 1\n",
    "        return value\n",
    "\n",
    "    def peek(self):\n",
    "        \"\"\"\n",
    "        Returns the top item of the stack without removing it.\n",
    "        Raises IndexError if the stack is empty.\n",
    "        \"\"\"\n",
    "        if self.is_empty():\n",
    "            raise IndexError(\"Stack is empty\")\n",
    "        return self.head.value"
   ]
  }
 ],
 "metadata": {
  "kernelspec": {
   "display_name": "Python 3",
   "language": "python",
   "name": "python3"
  },
  "language_info": {
   "name": "python",
   "version": "3.12.4"
  }
 },
 "nbformat": 4,
 "nbformat_minor": 2
}
