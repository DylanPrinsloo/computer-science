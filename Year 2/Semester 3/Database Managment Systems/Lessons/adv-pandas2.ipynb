{
 "cells": [
  {
   "cell_type": "markdown",
   "metadata": {},
   "source": [
    "# Advanced pandas 2"
   ]
  },
  {
   "cell_type": "code",
   "execution_count": null,
   "metadata": {},
   "outputs": [],
   "source": [
    "import pandas as pd"
   ]
  },
  {
   "cell_type": "markdown",
   "metadata": {},
   "source": [
    "# 1517. Find Users With Valid E-Mails\n",
    "\n",
    "**Difficulty**: Easy  \n",
    "**Topics**: SQL, Pandas  \n",
    "\n",
    "---\n",
    "\n",
    "## Table Schema: Users\n",
    "\n",
    "| Column Name | Type    |\n",
    "|-------------|---------|\n",
    "| user_id     | int     |\n",
    "| name        | varchar |\n",
    "| mail        | varchar |\n",
    "\n",
    "- `user_id` is the **primary key** (column with unique values) for this table.  \n",
    "- This table contains information about users signed up on a website, including their emails, some of which may be invalid.\n",
    "\n",
    "---\n",
    "\n",
    "## Problem Statement\n",
    "\n",
    "Write a solution to find the users who have **valid emails**.  \n",
    "A valid email satisfies the following conditions:\n",
    "1. **Prefix name**:\n",
    "   - May contain **letters** (upper or lower case), **digits**, **underscore `_`**, **period `.`**, and/or **dash `-`**.\n",
    "   - Must **start with a letter**.\n",
    "2. **Domain**:\n",
    "   - Must be `@leetcode.com`.\n",
    "\n",
    "---\n",
    "\n",
    "## Return:\n",
    "- The result table should include the `user_id`, `name`, and `mail` of users with valid emails.\n",
    "- The result can be returned in **any order**.\n",
    "\n",
    "---\n",
    "\n",
    "## Input\n",
    "\n",
    "### Users Table:\n",
    "\n",
    "| user_id | name      | mail                    |\n",
    "|---------|-----------|-------------------------|\n",
    "| 1       | Winston   | winston@leetcode.com    |\n",
    "| 2       | Jonathan  | jonathanisgreat         |\n",
    "| 3       | Annabelle | bella-@leetcode.com     |\n",
    "| 4       | Sally     | sally.come@leetcode.com |\n",
    "| 5       | Marwan    | quarz#2020@leetcode.com |\n",
    "| 6       | David     | david69@gmail.com       |\n",
    "| 7       | Shapiro   | .shapo@leetcode.com     |\n",
    "\n",
    "---\n",
    "\n",
    "## Output\n",
    "\n",
    "### Expected Result:\n",
    "\n",
    "| user_id | name      | mail                    |\n",
    "|---------|-----------|-------------------------|\n",
    "| 1       | Winston   | winston@leetcode.com    |\n",
    "| 3       | Annabelle | bella-@leetcode.com     |\n",
    "| 4       | Sally     | sally.come@leetcode.com |\n",
    "\n",
    "---\n",
    "\n",
    "## Explanation:\n",
    "\n",
    "1. **User 1**:\n",
    "   - Email `winston@leetcode.com` is valid.\n",
    "\n",
    "2. **User 2**:\n",
    "   - Email `jonathanisgreat` does not have a domain. Invalid.\n",
    "\n",
    "3. **User 3**:\n",
    "   - Email `bella-@leetcode.com` is valid.\n",
    "\n",
    "4. **User 4**:\n",
    "   - Email `sally.come@leetcode.com` is valid.\n",
    "\n",
    "5. **User 5**:\n",
    "   - Email `quarz#2020@leetcode.com` contains the `#` symbol, which is not allowed. Invalid.\n",
    "\n",
    "6. **User 6**:\n",
    "   - Email `david69@gmail.com` does not belong to the `@leetcode.com` domain. Invalid.\n",
    "\n",
    "7. **User 7**:\n",
    "   - Email `.shapo@leetcode.com` starts with a period (`.`). Invalid.\n"
   ]
  },
  {
   "cell_type": "code",
   "execution_count": null,
   "metadata": {},
   "outputs": [],
   "source": [
    "# import pandas as pd\n",
    "\n",
    "def valid_emails(users: pd.DataFrame) -> pd.DataFrame:\n",
    "    email_regex = r'^[a-zA-Z][a-zA-Z0-9._-]*@leetcode\\.com$'\n",
    "    users = users[users['mail'].str.match(email_regex, na=False)]\n",
    "    return users[['user_id','name','mail']]"
   ]
  },
  {
   "cell_type": "code",
   "execution_count": null,
   "metadata": {},
   "outputs": [],
   "source": [
    "# more efficient solution 265ms\n",
    "'''\n",
    "Python\n",
    "import pandas as pd\n",
    "\n",
    "def valid_emails(users: pd.DataFrame) -> pd.DataFrame:\n",
    "    valid_emails_df = users[users['mail'].str.match(r'^[A-Za-z][A-Za-z0-9_\\.|-]*@leetcode(\\?com)?\\.com$')]\n",
    "    return valid_emails_df\n",
    "'''\n"
   ]
  }
 ],
 "metadata": {
  "kernelspec": {
   "display_name": "Python 3",
   "language": "python",
   "name": "python3"
  },
  "language_info": {
   "name": "python",
   "version": "3.12.4"
  }
 },
 "nbformat": 4,
 "nbformat_minor": 2
}
