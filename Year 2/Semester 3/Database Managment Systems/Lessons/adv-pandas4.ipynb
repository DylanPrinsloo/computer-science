{
 "cells": [
  {
   "cell_type": "markdown",
   "metadata": {},
   "source": [
    "# Advanced Pandas 4"
   ]
  },
  {
   "cell_type": "code",
   "execution_count": null,
   "metadata": {},
   "outputs": [],
   "source": [
    "import pandas as pd"
   ]
  },
  {
   "cell_type": "markdown",
   "metadata": {},
   "source": [
    "# 1795. Rearrange Products Table\n",
    "\n",
    "**Difficulty:** Easy  \n",
    "**Topics:** SQL, Pandas\n",
    "\n",
    "## Table: Products\n",
    "\n",
    "| Column Name | Type    |\n",
    "|-------------|---------|\n",
    "| product_id  | int     |\n",
    "| store1      | int     |\n",
    "| store2      | int     |\n",
    "| store3      | int     |\n",
    "\n",
    "- `product_id` is the primary key (column with unique values) for this table.\n",
    "- Each row in this table indicates the product's price in 3 different stores: `store1`, `store2`, and `store3`.\n",
    "- If the product is not available in a store, the price will be `null` in that store's column.\n",
    "\n",
    "---\n",
    "\n",
    "## Problem Statement\n",
    "\n",
    "Write a solution to rearrange the **Products** table so that each row has `(product_id, store, price)`. If a product is not available in a store, do **not** include a row with that `product_id` and `store` combination in the result table.\n",
    "\n",
    "Return the result table in any order.\n",
    "\n",
    "---\n",
    "\n",
    "## Example\n",
    "\n",
    "### Input: Products Table\n",
    "\n",
    "| product_id | store1 | store2 | store3 |\n",
    "|------------|--------|--------|--------|\n",
    "| 0          | 95     | 100    | 105    |\n",
    "| 1          | 70     | null   | 80     |\n",
    "\n",
    "---\n",
    "\n",
    "### Output\n",
    "\n",
    "| product_id | store  | price |\n",
    "|------------|--------|-------|\n",
    "| 0          | store1 | 95    |\n",
    "| 0          | store2 | 100   |\n",
    "| 0          | store3 | 105   |\n",
    "| 1          | store1 | 70    |\n",
    "| 1          | store3 | 80    |\n",
    "\n",
    "---\n",
    "\n",
    "## Explanation\n",
    "\n",
    "- **Product 0** is available in all three stores with prices:\n",
    "  - `store1`: 95, `store2`: 100, `store3`: 105.\n",
    "- **Product 1** is available in:\n",
    "  - `store1`: 70 and `store3`: 80.\n",
    "  - It is not available in `store2`, so no row is included for this combination.\n"
   ]
  },
  {
   "cell_type": "code",
   "execution_count": null,
   "metadata": {},
   "outputs": [],
   "source": []
  }
 ],
 "metadata": {
  "kernelspec": {
   "display_name": "Python 3",
   "language": "python",
   "name": "python3"
  },
  "language_info": {
   "name": "python",
   "version": "3.12.4"
  }
 },
 "nbformat": 4,
 "nbformat_minor": 2
}
