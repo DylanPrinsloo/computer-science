{
 "cells": [
  {
   "cell_type": "markdown",
   "metadata": {},
   "source": [
    "# Advanced Pandas 5"
   ]
  },
  {
   "cell_type": "code",
   "execution_count": null,
   "metadata": {},
   "outputs": [],
   "source": [
    "import pandas as pd"
   ]
  },
  {
   "cell_type": "markdown",
   "metadata": {},
   "source": [
    "# 2356. Number of Unique Subjects Taught by Each Teacher\n",
    "\n",
    "**Difficulty**: Easy  \n",
    "**Topics**: SQL, Pandas  \n",
    "\n",
    "## Schema\n",
    "\n",
    "### Table: `Teacher`\n",
    "| Column Name | Type |\n",
    "|-------------|------|\n",
    "| `teacher_id`  | int  |\n",
    "| `subject_id`  | int  |\n",
    "| `dept_id`     | int  |\n",
    "\n",
    "- `(subject_id, dept_id)` is the primary key (unique combinations of columns) of this table.\n",
    "- Each row in this table indicates that the teacher with `teacher_id` teaches the subject `subject_id` in the department `dept_id`.\n",
    "\n",
    "---\n",
    "\n",
    "## Task\n",
    "\n",
    "Write a solution to calculate the number of unique subjects each teacher teaches in the university.  \n",
    "\n",
    "Return the result table in **any order**.\n",
    "\n",
    "---\n",
    "\n",
    "## Example\n",
    "\n",
    "### Input:  \n",
    "`Teacher` table:\n",
    "| teacher_id | subject_id | dept_id |\n",
    "|------------|------------|---------|\n",
    "| 1          | 2          | 3       |\n",
    "| 1          | 2          | 4       |\n",
    "| 1          | 3          | 3       |\n",
    "| 2          | 1          | 1       |\n",
    "| 2          | 2          | 1       |\n",
    "| 2          | 3          | 1       |\n",
    "| 2          | 4          | 1       |\n",
    "\n",
    "---\n",
    "\n",
    "### Output:\n",
    "| teacher_id | cnt |\n",
    "|------------|-----|\n",
    "| 1          | 2   |\n",
    "| 2          | 4   |\n",
    "\n",
    "---\n",
    "\n",
    "### Explanation:\n",
    "#### Teacher 1:\n",
    "- Teaches **subject 2** in departments **3** and **4**.\n",
    "- Teaches **subject 3** in department **3**.  \n",
    "Unique subjects taught: **2**.\n",
    "\n",
    "#### Teacher 2:\n",
    "- Teaches **subject 1** in department **1**.\n",
    "- Teaches **subject 2** in department **1**.\n",
    "- Teaches **subject 3** in department **1**.\n",
    "- Teaches **subject 4** in department **1**.  \n",
    "Unique subjects taught: **4**.\n"
   ]
  },
  {
   "cell_type": "code",
   "execution_count": null,
   "metadata": {},
   "outputs": [],
   "source": []
  }
 ],
 "metadata": {
  "kernelspec": {
   "display_name": "Python 3",
   "language": "python",
   "name": "python3"
  },
  "language_info": {
   "name": "python",
   "version": "3.13.0"
  }
 },
 "nbformat": 4,
 "nbformat_minor": 2
}
