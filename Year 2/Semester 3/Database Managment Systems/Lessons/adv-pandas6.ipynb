{
 "cells": [
  {
   "cell_type": "markdown",
   "metadata": {},
   "source": [
    "# Advanced Pandas 6"
   ]
  },
  {
   "cell_type": "code",
   "execution_count": null,
   "metadata": {},
   "outputs": [],
   "source": [
    "import pandas as pd"
   ]
  },
  {
   "cell_type": "markdown",
   "metadata": {},
   "source": [
    "# 1693. Daily Leads and Partners  \n",
    "\n",
    "**Difficulty**: Easy  \n",
    "**Topics**: SQL, Pandas  \n",
    "\n",
    "## Schema  \n",
    "\n",
    "### Table: `DailySales`  \n",
    "| Column Name | Type    |  \n",
    "|-------------|---------|  \n",
    "| `date_id`   | date    |  \n",
    "| `make_name` | varchar |  \n",
    "| `lead_id`   | int     |  \n",
    "| `partner_id`| int     |  \n",
    "\n",
    "- There is no primary key (column with unique values) for this table.  \n",
    "- The table may contain duplicates.  \n",
    "- This table contains the date and the name of the product sold and the IDs of the lead and partner it was sold to.  \n",
    "- The `make_name` consists of only lowercase English letters.  \n",
    "\n",
    "---\n",
    "\n",
    "## Task  \n",
    "\n",
    "Write a solution to calculate the number of distinct `lead_id`'s and `partner_id`'s for each `date_id` and `make_name`.  \n",
    "\n",
    "Return the result table in **any order**.\n",
    "\n",
    "---\n",
    "\n",
    "## Example  \n",
    "\n",
    "### Input:  \n",
    "`DailySales` table:  \n",
    "| date_id    | make_name | lead_id | partner_id |  \n",
    "|------------|-----------|---------|------------|  \n",
    "| 2020-12-8  | toyota    | 0       | 1          |  \n",
    "| 2020-12-8  | toyota    | 1       | 0          |  \n",
    "| 2020-12-8  | toyota    | 1       | 2          |  \n",
    "| 2020-12-7  | toyota    | 0       | 2          |  \n",
    "| 2020-12-7  | toyota    | 0       | 1          |  \n",
    "| 2020-12-8  | honda     | 1       | 2          |  \n",
    "| 2020-12-8  | honda     | 2       | 1          |  \n",
    "| 2020-12-7  | honda     | 0       | 1          |  \n",
    "| 2020-12-7  | honda     | 1       | 2          |  \n",
    "| 2020-12-7  | honda     | 2       | 1          |  \n",
    "\n",
    "---\n",
    "\n",
    "### Output:  \n",
    "| date_id    | make_name | unique_leads | unique_partners |  \n",
    "|------------|-----------|--------------|-----------------|  \n",
    "| 2020-12-8  | toyota    | 2            | 3               |  \n",
    "| 2020-12-7  | toyota    | 1            | 2               |  \n",
    "| 2020-12-8  | honda     | 2            | 2               |  \n",
    "| 2020-12-7  | honda     | 3            | 2               |  \n",
    "\n",
    "---\n",
    "\n",
    "### Explanation:  \n",
    "\n",
    "#### Date: 2020-12-8  \n",
    "- **Toyota**  \n",
    "  - Leads: `[0, 1]`  \n",
    "  - Partners: `[0, 1, 2]`  \n",
    "  - Unique leads: **2**, Unique partners: **3**  \n",
    "- **Honda**  \n",
    "  - Leads: `[1, 2]`  \n",
    "  - Partners: `[1, 2]`  \n",
    "  - Unique leads: **2**, Unique partners: **2**  \n",
    "\n",
    "#### Date: 2020-12-7  \n",
    "- **Toyota**  \n",
    "  - Leads: `[0]`  \n",
    "  - Partners: `[1, 2]`  \n",
    "  - Unique leads: **1**, Unique partners: **2**  \n",
    "- **Honda**  \n",
    "  - Leads: `[0, 1, 2]`  \n",
    "  - Partners: `[1, 2]`  \n",
    "  - Unique leads: **3**, Unique partners: **2**  \n"
   ]
  },
  {
   "cell_type": "code",
   "execution_count": null,
   "metadata": {},
   "outputs": [],
   "source": []
  }
 ],
 "metadata": {
  "kernelspec": {
   "display_name": "Python 3",
   "language": "python",
   "name": "python3"
  },
  "language_info": {
   "name": "python",
   "version": "3.12.4"
  }
 },
 "nbformat": 4,
 "nbformat_minor": 2
}
