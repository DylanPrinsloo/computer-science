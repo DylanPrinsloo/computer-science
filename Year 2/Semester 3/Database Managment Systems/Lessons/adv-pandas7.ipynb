{
 "cells": [
  {
   "cell_type": "markdown",
   "metadata": {},
   "source": [
    "# Advanced Pandas 7"
   ]
  },
  {
   "cell_type": "code",
   "execution_count": null,
   "metadata": {},
   "outputs": [],
   "source": [
    "import pandas as pd"
   ]
  },
  {
   "cell_type": "markdown",
   "metadata": {},
   "source": [
    "# 570. Managers with at Least 5 Direct Reports\n",
    "\n",
    "## Difficulty\n",
    "Medium\n",
    "\n",
    "## Topics\n",
    "SQL, Pandas, Data Analysis\n",
    "\n",
    "## Schema\n",
    "\n",
    "### Table: Employee\n",
    "\n",
    "| Column Name | Type    |\n",
    "|-------------|---------|\n",
    "| id          | int     |\n",
    "| name        | varchar |\n",
    "| department  | varchar |\n",
    "| managerId   | int     |\n",
    "\n",
    "- `id` is the primary key (column with unique values) for this table.\n",
    "- Each row of this table indicates the name of an employee, their department, and the `id` of their manager.\n",
    "- If `managerId` is `null`, then the employee does not have a manager.\n",
    "- No employee will be the manager of themself.\n",
    "\n",
    "---\n",
    "\n",
    "## Problem Statement\n",
    "\n",
    "Write a solution to find managers with **at least five direct reports**.\n",
    "\n",
    "### Input\n",
    "\n",
    "#### Example Table: `Employee`\n",
    "\n",
    "| id  | name  | department | managerId |\n",
    "|-----|-------|------------|-----------|\n",
    "| 101 | John  | A          | null      |\n",
    "| 102 | Dan   | A          | 101       |\n",
    "| 103 | James | A          | 101       |\n",
    "| 104 | Amy   | A          | 101       |\n",
    "| 105 | Anne  | A          | 101       |\n",
    "| 106 | Ron   | B          | 101       |\n",
    "\n",
    "### Output\n",
    "\n",
    "#### Example Output Table\n",
    "\n",
    "| name |\n",
    "|------|\n",
    "| John |\n",
    "\n",
    "---\n",
    "\n",
    "## Notes\n",
    "\n",
    "- A \"direct report\" is an employee whose `managerId` corresponds to the `id` of the manager.\n",
    "- The result should include only the names of managers with at least 5 direct reports.\n",
    "- The result can be returned in any order.\n",
    "\n",
    "## Tags\n",
    "\n",
    "- SQL Query Writing\n",
    "- Grouping and Aggregation\n",
    "- Filtering with Conditions\n",
    "- Data Analysis in Pandas\n"
   ]
  },
  {
   "cell_type": "code",
   "execution_count": null,
   "metadata": {},
   "outputs": [],
   "source": [
    "'''\n",
    "The question description is incorrect.\n",
    "It asks to Write a solution to find managers with at least five direct reports.\n",
    "\n",
    "and in sample output the name is column is given which is the Employee name not the Manager's.\n",
    "'''"
   ]
  },
  {
   "cell_type": "code",
   "execution_count": null,
   "metadata": {},
   "outputs": [],
   "source": [
    "# still busy"
   ]
  }
 ],
 "metadata": {
  "kernelspec": {
   "display_name": "Python 3",
   "language": "python",
   "name": "python3"
  },
  "language_info": {
   "name": "python",
   "version": "3.12.4"
  }
 },
 "nbformat": 4,
 "nbformat_minor": 2
}
